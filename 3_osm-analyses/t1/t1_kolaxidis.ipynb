{
 "cells": [
  {
   "cell_type": "markdown",
   "metadata": {},
   "source": [
    "# Geographic Analysis with OpenStreetMap Data\n",
    "\n",
    "Author: Niko Kolaxidis <br/>\n",
    "Topic/Key to look at: **\"shop\"**"
   ]
  },
  {
   "cell_type": "markdown",
   "metadata": {},
   "source": [
    "## Data Structure"
   ]
  },
  {
   "cell_type": "markdown",
   "metadata": {},
   "source": [
    "### *What is the most common OSM type used for your topic on a global level? Provide an overview on the number of nodes, ways and relations for this topic.*\n",
    "\n",
    "| Type | Number of objects | Percent of global data | Number of values |\n",
    "|:----:|:-----------------:|:----------------------:|:----------------:|\n",
    "| All  | 5 371 722 | 0.06% | 11 643 |\n",
    "| Node | 4 168 150 | 2.06% | 9 625 |\n",
    "| Way | 1 190 476 | 0.13% | 3 857 |\n",
    "| Relation | 13 096 | 0.13% | 274 |\n",
    "\n",
    "Source: [Taginfo](https://taginfo.openstreetmap.org/keys/shop#overview) on 20.11.2022 at 4:55 pm"
   ]
  },
  {
   "cell_type": "markdown",
   "metadata": {},
   "source": [
    "### *List the five most common values used in OSM for your topic.*\n",
    "\n",
    "| Value | Count | Percent of key \"shop\" | Description | \n",
    "|:-----:|:-----:|:-------:|:-----------|\n",
    "| convenience | 659 088 | 12.27% | A convenience shop is a small local shop carrying a variety of everyday products, such as packaged food and hygiene products. |\n",
    "| supermarket | 427 738 | 7.96% | A large shop selling groceries, fresh produce, and other goods. |\n",
    "| clothes | 343 128 | 6.39% | A shop which primarily sells clothing. |\n",
    "| hairdresser | 281 179 | 5.23% | A hairdressers or barbers shop, where hair is cut. |\n",
    "| car_repair | 219 291 | 4.08% | A business where cars are repaired. |\n",
    "\n",
    "Source: [Taginfo](https://taginfo.openstreetmap.org/keys/shop#values) on 20.11.2022 at 5:00 pm"
   ]
  },
  {
   "cell_type": "markdown",
   "metadata": {},
   "source": [
    "## Data Download "
   ]
  },
  {
   "cell_type": "markdown",
   "metadata": {},
   "source": [
    "### *Download OSM data through the HOT Export tool as a geopackage file. Make sure to only download data related to your topic and the five most commonly used values. Provide the download link you got via e-mail.*\n",
    "\n",
    "Query (yaml) for HOT Export tool:\n",
    "```\n",
    "planet_osm_point:\n",
    "  types:\n",
    "    - points\n",
    "  select:\n",
    "    - name\n",
    "    - shop\n",
    "  where:\n",
    "    - shop IN ('convenience', 'supermarket', 'clothes', 'hairdresser', 'car_repair')\n",
    "planet_osm_polygon:\n",
    "  types:\n",
    "    - polygons\n",
    "  select:\n",
    "    - name\n",
    "    - shop\n",
    "  where:\n",
    "    - shop IN ('convenience', 'supermarket', 'clothes', 'hairdresser', 'car_repair')\n",
    "```\n",
    "Result (via Email): [GrHalbgott - multiple value query](https://export.hotosm.org/v3/exports/835279e1-5f34-448b-b4a3-02e2c218b3b3/) <br/>\n",
    "Also as file: [Geopackage from HOT Export tool](./results/Shop_data_gpkg.zip)"
   ]
  },
  {
   "cell_type": "markdown",
   "metadata": {},
   "source": [
    "### *Download OSM data through the Overpass-Turbo. Make sure to only download data related to your topic and the five most commonly used values. Provide a link to Overpass-Turbo which directly runs the query in a web browser. Make sure to reduce the size of the area of interest.*\n",
    "\n",
    "Query for Overpass Turbo:\n",
    "```\n",
    "[out:json][timeout:31];\n",
    "// fetch area “Heidelberg” to search in\n",
    "{{geocodeArea:Heidelberg}}->.searchArea;\n",
    "// gather results\n",
    "(\n",
    "  //nodes\n",
    "  node[\"shop\"=\"convenience\"](area.searchArea);\n",
    "  node[\"shop\"=\"supermarket\"](area.searchArea);\n",
    "  node[\"shop\"=\"clothes\"](area.searchArea);\n",
    "  node[\"shop\"=\"hairdresser\"](area.searchArea);\n",
    "  node[\"shop\"=\"car_repair\"](area.searchArea);\n",
    "  //ways\n",
    "  way[\"shop\"=\"convenience\"](area.searchArea);\n",
    "  way[\"shop\"=\"supermarket\"](area.searchArea);\n",
    "  way[\"shop\"=\"clothes\"](area.searchArea);\n",
    "  way[\"shop\"=\"hairdresser\"](area.searchArea);\n",
    "  way[\"shop\"=\"car_repair\"](area.searchArea);\n",
    "  //relations\n",
    "  relation[\"shop\"=\"convenience\"](area.searchArea);\n",
    "  relation[\"shop\"=\"supermarket\"](area.searchArea);\n",
    "  relation[\"shop\"=\"clothes\"](area.searchArea);\n",
    "  relation[\"shop\"=\"hairdresser\"](area.searchArea);\n",
    "  relation[\"shop\"=\"car_repair\"](area.searchArea);\n",
    ");\n",
    "// print results\n",
    "out body;\n",
    ">;\n",
    "out skel qt;\n",
    "```\n",
    "\n",
    "Result: [Overpass Turbo Query](https://overpass-turbo.eu/s/1nYR) <br/>\n",
    "Also as file: [JSON file from Overpass Turbo](./results/overpass_export.geojson)"
   ]
  },
  {
   "cell_type": "markdown",
   "metadata": {},
   "source": [
    "## Simple Counts"
   ]
  },
  {
   "cell_type": "markdown",
   "metadata": {},
   "source": [
    "### *Visualize the number of all OSM features related to your topic on a monthly basis since 2010-01-01 for Switzerland and distinguish this by OSM type.*\n",
    "\n",
    "![](./images/ohsome_shop_Switzerland_type.png)\n",
    "\n",
    "Source: https://ohsome.org/apps/dashboard/ on 20.11.2022 at 6:24 pm <br/>\n",
    "Also as file: [JSON file from Ohsome, grouped by type](./results/ohsome_shop_Switzerland_type.json)"
   ]
  },
  {
   "cell_type": "markdown",
   "metadata": {},
   "source": [
    "\n",
    "### *Visualize the number of OSM features related to your topic which contain the 5 most common values on a monthly basis since 2010-01-01 for Switzerland and distinguish this by tag (value).*\n",
    "\n",
    "Query for  ohsome:\n",
    "```\n",
    "shop in (convenience, supermarket, clothes, hairdresser, car_repair) and type=*\n",
    "```\n",
    "\n",
    "![](./images/ohsome_shop5_Switzerland_tags.png)\n",
    "\n",
    "Source: https://ohsome.org/apps/dashboard/ on 20.11.2022 at 6:30 pm <br/>\n",
    "Also as file: [JSON file from Ohsome, grouped by tag](./results/ohsome_shop5_Switzerland_tags.json)"
   ]
  },
  {
   "cell_type": "markdown",
   "metadata": {},
   "source": [
    "## Analyzing Changesets"
   ]
  },
  {
   "cell_type": "markdown",
   "metadata": {},
   "source": [
    "### *Count the number of change sets and the overall number of changes (num_changes) in the given geopackage file created at 01.02.2020.*"
   ]
  },
  {
   "cell_type": "code",
   "execution_count": 6,
   "metadata": {},
   "outputs": [
    {
     "name": "stdout",
     "output_type": "stream",
     "text": [
      "Results:\n",
      "- Total number of changesets: 267378\n",
      "- Total number of changes: 20208464\n"
     ]
    }
   ],
   "source": [
    "import geopandas as gpd\n",
    "\n",
    "try:\n",
    "    data = gpd.read_file(\"./data/changesets.gpkg\", layer='changesets_centroids')\n",
    "except:\n",
    "    print(\"Check the path to the file.\")\n",
    "\n",
    "# count number of changesets\n",
    "changesets = len(data)\n",
    "# count number of changes\n",
    "changes = data[\"num_changes\"].sum()\n",
    "\n",
    "# print results\n",
    "print(\"Results:\")\n",
    "print(\"- Total number of changesets: {}\".format(changesets))\n",
    "print(\"- Total number of changes: {}\".format(changes))\n"
   ]
  },
  {
   "cell_type": "markdown",
   "metadata": {},
   "source": [
    "### *Visualize the global distribution of changesets using the changeset centroid for the OSM user ID assigned to your group. Consider the full time range of the changeset data. Use a heatmap representation and add a basemap. Then export your map (including legend, title and information about the data source) as a .png file.*\n",
    "\n",
    "![](./images/map.png)"
   ]
  }
 ],
 "metadata": {
  "kernelspec": {
   "display_name": "Python 3 (ipykernel)",
   "language": "python",
   "name": "python3"
  },
  "language_info": {
   "codemirror_mode": {
    "name": "ipython",
    "version": 3
   },
   "file_extension": ".py",
   "mimetype": "text/x-python",
   "name": "python",
   "nbconvert_exporter": "python",
   "pygments_lexer": "ipython3",
   "version": "3.9.15"
  },
  "vscode": {
   "interpreter": {
    "hash": "39c0c04ab77d906b13c50af87c0baea8f91cb4a5b267a8c6049ead54a6dc4c53"
   }
  }
 },
 "nbformat": 4,
 "nbformat_minor": 2
}
