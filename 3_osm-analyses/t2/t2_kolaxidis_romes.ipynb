{
 "cells": [
  {
   "cell_type": "markdown",
   "metadata": {},
   "source": [
    "# Geographic Analysis with OpenStreetMap Data\n",
    "\n",
    "**Test 02** <br/>\n",
    "Authors: Niko Kolaxidis & Tobias Romes <br/>\n",
    "Topic/Key to look at: **\"Ellesmere Port\"**"
   ]
  },
  {
   "cell_type": "markdown",
   "metadata": {},
   "source": [
    "## Completeness"
   ]
  },
  {
   "cell_type": "markdown",
   "metadata": {},
   "source": [
    "### *Query the ohsome API to derive the number of buildings and overall building area in OSM for each 1km x 1km grid cell. Consider in your queries buildings with the tags yes, house, residential and garage. Save your results into your geojson file.*"
   ]
  },
  {
   "cell_type": "code",
   "execution_count": 4,
   "metadata": {},
   "outputs": [
    {
     "name": "stderr",
     "output_type": "stream",
     "text": [
      "2022-12-21 18:47:23,500  collection  ERROR:  .\\data\\t2_buildings_sum_count.geojson: No such file or directory\n",
      "2022-12-21 18:47:23,501  collection  WARNING:  driver GeoJSON does not support creation option ENCODING\n",
      "2022-12-21 18:47:23,534  collection  ERROR:  .\\data\\t2_buildings_sum_count.geojson: No such file or directory\n",
      "2022-12-21 18:47:23,535  collection  WARNING:  driver GeoJSON does not support creation option ENCODING\n"
     ]
    }
   ],
   "source": [
    "import sys\n",
    "import fiona\n",
    "import warnings\n",
    "import geopandas as gpd\n",
    "from ohsome import OhsomeClient\n",
    "\n",
    "warnings.filterwarnings(\"ignore\")\n",
    "\n",
    "\n",
    "# write function to process two distinct requests\n",
    "def join_and_write(response, topic):\n",
    "    \"\"\"Join a response from ohsome API to a geojson file\"\"\"\n",
    "    df = f\"response_df_{topic}\"\n",
    "    df = response.as_dataframe()\n",
    "\n",
    "    # assign primary key to join correctly\n",
    "    df.reset_index(inplace=True)\n",
    "    df[\"idx\"] = df[\"boundary\"].astype(int)\n",
    "    df.set_index(\"idx\", inplace=True)\n",
    "\n",
    "    # read infile again and join response to geojson file (add suffix to )\n",
    "    join_df = gpd.read_file(infile).join(df, lsuffix=\"_2\")\n",
    "\n",
    "    # rename key \"value\" to prevent duplicates due to repeated request\n",
    "    join_df[f\"{topic}_osm\"] = join_df.pop(\"value\")\n",
    "    \n",
    "    # calculate differences and ratio \n",
    "    join_df[f\"{topic}_difference\"] = join_df[f\"{topic}_osm\"] - join_df[f\"{topic}\"]\n",
    "    join_df[f\"{topic}_ratio\"] = join_df[f\"{topic}_osm\"] / join_df[f\"{topic}\"]\n",
    "\n",
    "    # export your results as a geojson file\n",
    "    with fiona.Env(OSR_WKT_FORMAT=\"WKT2_2018\"):\n",
    "        join_df.to_file(infile, driver=\"GeoJSON\")\n",
    "\n",
    "    return join_df\n",
    "\n",
    "\n",
    "client = OhsomeClient()\n",
    "infile = r\".\\data\\t2_buildings_sum_count.geojson\"\n",
    "bpolys = gpd.read_file(infile)\n",
    "\n",
    "# Define which OSM features should be considered.\n",
    "filter_buildings = \"building in (yes, house, residential, garage)\"\n",
    "\n",
    "try:\n",
    "    response_count = client.elements.count.groupByBoundary.post(\n",
    "        bpolys=bpolys, \n",
    "        filter=filter_buildings\n",
    "    )\n",
    "    response_area_sum = client.elements.area.groupByBoundary.post(\n",
    "        bpolys=bpolys, \n",
    "        filter=filter_buildings\n",
    "    )\n",
    "    \n",
    "except Exception as err:\n",
    "    print(f\"Could not send request to ohsome API: {err}\")\n",
    "    sys.exit()\n",
    "\n",
    "try:\n",
    "    join_and_write(response_count, \"count\")\n",
    "    # read geojson file again and join to new dataset\n",
    "    join_df = join_and_write(response_area_sum, \"area_sum\")\n",
    "    \n",
    "except Exception as err:\n",
    "    print(f\"Could not complete operations: {err}\")\n",
    "    sys.exit()\n"
   ]
  },
  {
   "cell_type": "markdown",
   "metadata": {},
   "source": [
    "### *Report on the overall (sum) building count and building area for your entire area of interest. How complete are OSM buildings for your area of interest in regard to count based completeness and area based completeness measures?*"
   ]
  },
  {
   "cell_type": "code",
   "execution_count": 2,
   "metadata": {},
   "outputs": [
    {
     "name": "stdout",
     "output_type": "stream",
     "text": [
      "Total building area: 3.04 km² in OSDH | 2.17 km² in OSM\n",
      "Total buildings: 14213 in OSDH | 28704 in OSM\n"
     ]
    }
   ],
   "source": [
    "print(\"Total building area: {:.2f} km² in OSDH | {:.2f} km² in OSM\".format(join_df[\"area_sum\"].sum() / 1000000, join_df[\"area_sum_osm\"].sum() / 1000000))\n",
    "print(\"Total buildings: {:.0f} in OSDH | {:.0f} in OSM\".format(join_df[\"count\"].sum(), join_df[\"count_osm\"].sum()))"
   ]
  },
  {
   "cell_type": "markdown",
   "metadata": {},
   "source": [
    "As seen in above print statements, the data shows differences in mapping completeness. Despite the higher building area mapped in the Ordnance Survey Data Hub (OSDH), the OpenStreetMap (OSM) data seems more detailed due to a much higher total count of mapped buildings. This has yet to be proven with additional data and an evaluation of the pre-/postprocessing of mapped data."
   ]
  },
  {
   "cell_type": "markdown",
   "metadata": {},
   "source": [
    "### *How are the measures different for your area of interest? What could be a reason for this difference?*\n",
    "\n",
    "As stated by Ordnance Survey Limited in their Specification Paper, the OSDH dataset is generalized by \"reducing the scale and complexity of map detail while maintaining the\n",
    "important elements and characteristics of the geometry\" (Ordance Survey Limited 2017, p. 12). In regard to buildings, they state that one entity of a building can in reality consist of multiple structures which probably is the reason why the OSM dataset has a higher building count - it simply is more detailed and many buildings are probably divided in multiple entities (Ordnance Survey Limited 2017, p. 13).\n",
    "\n",
    "*Source: Ordnance Survey Limited (2017): OS OpenMap - Local Technical Specification contents [v.1.1.1], https://www.ordnancesurvey.co.uk/documents/os-open-map-local-product-guide.pdf [21.02.2022].*"
   ]
  },
  {
   "cell_type": "markdown",
   "metadata": {},
   "source": [
    "### *Visualize your results for the 1km x 1km grid on two maps. The symbology should be based on (A) the ration between OSM / reference building area and (B) the ration between OSM / reference building count.*\n",
    "\n",
    "![](./images/map_count.png)\n",
    "![](./images/map_area.png)"
   ]
  },
  {
   "cell_type": "markdown",
   "metadata": {},
   "source": [
    "## Correctness"
   ]
  },
  {
   "cell_type": "markdown",
   "metadata": {},
   "source": [
    "### *Derive the currentness of OSM data for all shops in your area of interest. Use a snapshot based approach for this analysis. Download all OSM elements which use the key shop and are represented as a point. Make sure that this download includes the timestamp the OSM element has been edited the last time.*\n",
    "\n",
    "Query in Overpass Turbo:\n",
    "\n",
    "```\n",
    "[out:json][timeout:25];\n",
    "// fetch area “Ellesmere Port” to search in\n",
    "{{geocodeArea:Ellesmere Port}}->.searchArea;\n",
    "// gather results\n",
    "(\n",
    "  node[\"shop\"](area.searchArea);\n",
    ");\n",
    "// print results\n",
    "out meta; // use meta instead of body to include timestamps\n",
    ">;\n",
    "out skel qt;\n",
    "```\n",
    "\n",
    "Result: [Overpass Turbo Query](https://overpass-turbo.eu/s/1pka) <br/>\n",
    "Also as file: [JSON file from Overpass Turbo](./data/shops_EP.geojson)"
   ]
  },
  {
   "cell_type": "markdown",
   "metadata": {},
   "source": [
    "### *Categorize OSM elements into three groups based on their last edit timestamp. Use 2018-01-01 and 2020-01-01 as the thresholds. How many elements have been edited for each category?*\n",
    "\n",
    "| Categories | Count |\n",
    "|:----------:|:-----:|\n",
    "| Post <br/> (after 2020-01-01) | 12 |\n",
    "| Pre <br/> (before 2018-01-01) | 10 |\n",
    "| Mid <br/> (between 2018-01-01 and 2020-01-01) | 3 |"
   ]
  },
  {
   "cell_type": "markdown",
   "metadata": {},
   "source": [
    "### *Visualize the results on a map.*\n",
    "\n",
    "![](./images/map_shops.png)"
   ]
  }
 ],
 "metadata": {
  "kernelspec": {
   "display_name": "Python 3 (ipykernel)",
   "language": "python",
   "name": "python3"
  },
  "language_info": {
   "codemirror_mode": {
    "name": "ipython",
    "version": 3
   },
   "file_extension": ".py",
   "mimetype": "text/x-python",
   "name": "python",
   "nbconvert_exporter": "python",
   "pygments_lexer": "ipython3",
   "version": "3.9.15"
  },
  "vscode": {
   "interpreter": {
    "hash": "39c0c04ab77d906b13c50af87c0baea8f91cb4a5b267a8c6049ead54a6dc4c53"
   }
  }
 },
 "nbformat": 4,
 "nbformat_minor": 2
}
