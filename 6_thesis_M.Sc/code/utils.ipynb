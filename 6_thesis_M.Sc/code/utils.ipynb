{
 "cells": [
  {
   "cell_type": "markdown",
   "metadata": {},
   "source": [
    "# Utilities"
   ]
  },
  {
   "cell_type": "markdown",
   "metadata": {},
   "source": [
    "## Images extractor"
   ]
  },
  {
   "cell_type": "code",
   "execution_count": null,
   "metadata": {},
   "outputs": [],
   "source": [
    "import tarfile\n",
    "from pathlib import Path"
   ]
  },
  {
   "cell_type": "code",
   "execution_count": null,
   "metadata": {},
   "outputs": [],
   "source": [
    "def extract_images(in_dir, out_dir):\n",
    "    for tar_file in in_dir:\n",
    "        print(f'Extracting {tar_file.parent.name}...')\n",
    "        with tarfile.open(tar_file, 'r') as file:\n",
    "            out_folder = out_dir / tar_file.parent.name\n",
    "            file.extractall(out_folder)"
   ]
  },
  {
   "cell_type": "code",
   "execution_count": null,
   "metadata": {},
   "outputs": [
    {
     "name": "stdout",
     "output_type": "stream",
     "text": [
      "Extracting 07cad76ece79666f2266caab083df113...\n",
      "Extracting 1b66267bb7d4bffc8bb86d91283fc891...\n",
      "Extracting 20eb07faec1640440d1e1279e87f252e...\n",
      "Extracting 25e181e04ce7d5c2bb8fac881b4949b6...\n",
      "Extracting 261bd6dcdfd963215dbc44d8b4ffae3f...\n",
      "Extracting 292c69fe3b20d52dd3b179fbdd5ab883...\n",
      "Extracting 344fc49564640817ec8cd6c340656235...\n",
      "Extracting 38e0c5281c4b3658915596930fdac5a0...\n",
      "Extracting 515419aae6738159b01333e4a0e8839e...\n",
      "Extracting 552fc2b4756b67263ff0cc0ee6c62499...\n",
      "Extracting 69b5c650431733af58141d1bbffcdec7...\n",
      "Extracting 842ace24c09d18c22294ebdb793d0a03...\n",
      "Extracting 921ee428be500cd1e4d98b48f09b5ca8...\n",
      "Extracting a70b8c57a707ce65c8647f0432ffc4d6...\n",
      "Extracting ae5f1056ab93146b69eb122896444734...\n",
      "Extracting c29727a5adce09b6bb449e731cafc77b...\n",
      "Extracting df29a6d2d8f8af1534dcd9282727bb5a...\n",
      "Extracting e6774188e5722eaabe1c4b83aca49a32...\n",
      "Extracting e858828bf21ce8b1d01255cb3f355885...\n",
      "Extracting f00beb674b9ae1c79a7ee4d544aaa84d...\n"
     ]
    }
   ],
   "source": [
    "root_dir = Path('/mnt/d/Projects/Science/Programming/lulc-utility')\n",
    "\n",
    "# Directory containing your ZIP files\n",
    "images_dir = root_dir / 'cache/imagery/sentinel_hub/imagery_v1'\n",
    "images_dir.mkdir(exist_ok=True)\n",
    "\n",
    "# Get a list of all TAR files in the directory\n",
    "tars_paths = list(images_dir.glob('**/response.tar'))\n",
    "\n",
    "# Directory to extract s2.tif images\n",
    "out_dir = root_dir / 'data/extracted_images'\n",
    "out_dir.mkdir(exist_ok=True)\n",
    "\n",
    "# Extract s2.tif images from ZIP files\n",
    "s2_paths = extract_images(tars_paths, out_dir)"
   ]
  },
  {
   "cell_type": "markdown",
   "metadata": {},
   "source": [
    "## Tag comparison"
   ]
  },
  {
   "cell_type": "code",
   "execution_count": 20,
   "metadata": {},
   "outputs": [],
   "source": [
    "import pandas as pd\n",
    "from pathlib import Path\n",
    "\n",
    "in_dir = Path('outdir')\n",
    "df = pd.DataFrame()\n",
    "\n",
    "# Open and read the files\n",
    "with open(in_dir / 'motorways_cols_Heidelberg.txt', 'r') as f:\n",
    "    tags_hd = set(line.strip() for line in f)\n",
    "with open(in_dir / 'motorways_cols_Mannheim.txt', 'r') as f:\n",
    "    tags_ma = set(line.strip() for line in f)\n",
    "with open(in_dir / 'motorways_cols_Lodz.txt', 'r') as f:\n",
    "    tags_lz = set(line.strip() for line in f)"
   ]
  },
  {
   "cell_type": "code",
   "execution_count": 21,
   "metadata": {},
   "outputs": [],
   "source": [
    "common_tags = tags_hd & tags_ma & tags_lz\n",
    "df['common_tags'] = pd.Series(list(common_tags))"
   ]
  },
  {
   "cell_type": "code",
   "execution_count": 22,
   "metadata": {},
   "outputs": [],
   "source": [
    "# Find unique tags in each file\n",
    "unique_tags_hd = tags_hd - tags_ma - tags_lz\n",
    "unique_tags_ma = tags_ma - tags_hd - tags_lz\n",
    "unique_tags_lz = tags_lz - tags_hd - tags_ma\n",
    "\n",
    "\n",
    "df['unique_tags_hd'] = pd.Series(list(unique_tags_hd))\n",
    "df = df.reindex(range(len(unique_tags_ma)))\n",
    "df['unique_tags_ma'] = pd.Series(list(unique_tags_ma))\n",
    "df['unique_tags_lz'] = pd.Series(list(unique_tags_lz))"
   ]
  },
  {
   "cell_type": "code",
   "execution_count": 24,
   "metadata": {},
   "outputs": [
    {
     "data": {
      "text/html": [
       "<div>\n",
       "<style scoped>\n",
       "    .dataframe tbody tr th:only-of-type {\n",
       "        vertical-align: middle;\n",
       "    }\n",
       "\n",
       "    .dataframe tbody tr th {\n",
       "        vertical-align: top;\n",
       "    }\n",
       "\n",
       "    .dataframe thead th {\n",
       "        text-align: right;\n",
       "    }\n",
       "</style>\n",
       "<table border=\"1\" class=\"dataframe\">\n",
       "  <thead>\n",
       "    <tr style=\"text-align: right;\">\n",
       "      <th></th>\n",
       "      <th>common_tags</th>\n",
       "      <th>unique_tags_hd</th>\n",
       "      <th>unique_tags_ma</th>\n",
       "      <th>unique_tags_lz</th>\n",
       "    </tr>\n",
       "  </thead>\n",
       "  <tbody>\n",
       "    <tr>\n",
       "      <th>0</th>\n",
       "      <td>bicycle</td>\n",
       "      <td>access:lanes</td>\n",
       "      <td>TMC:cid_58:tabcd_1:Class</td>\n",
       "      <td>cutting</td>\n",
       "    </tr>\n",
       "    <tr>\n",
       "      <th>1</th>\n",
       "      <td>bridge</td>\n",
       "      <td>bus:lanes</td>\n",
       "      <td>TMC:cid_58:tabcd_1:Direction</td>\n",
       "      <td>destination:int_ref</td>\n",
       "    </tr>\n",
       "    <tr>\n",
       "      <th>2</th>\n",
       "      <td>destination</td>\n",
       "      <td>cycleway:both</td>\n",
       "      <td>TMC:cid_58:tabcd_1:LCLversion</td>\n",
       "      <td>highway:category:pl</td>\n",
       "    </tr>\n",
       "    <tr>\n",
       "      <th>3</th>\n",
       "      <td>destination:lanes</td>\n",
       "      <td>fixme</td>\n",
       "      <td>TMC:cid_58:tabcd_1:LocationCode</td>\n",
       "      <td>highway:class:pl</td>\n",
       "    </tr>\n",
       "    <tr>\n",
       "      <th>4</th>\n",
       "      <td>destination:ref</td>\n",
       "      <td>highway:note</td>\n",
       "      <td>TMC:cid_58:tabcd_1:NextLocationCode</td>\n",
       "      <td>maxaxleload</td>\n",
       "    </tr>\n",
       "    <tr>\n",
       "      <th>...</th>\n",
       "      <td>...</td>\n",
       "      <td>...</td>\n",
       "      <td>...</td>\n",
       "      <td>...</td>\n",
       "    </tr>\n",
       "    <tr>\n",
       "      <th>66</th>\n",
       "      <td>NaN</td>\n",
       "      <td>NaN</td>\n",
       "      <td>turn</td>\n",
       "      <td>NaN</td>\n",
       "    </tr>\n",
       "    <tr>\n",
       "      <th>67</th>\n",
       "      <td>NaN</td>\n",
       "      <td>NaN</td>\n",
       "      <td>turn:lanes:backward</td>\n",
       "      <td>NaN</td>\n",
       "    </tr>\n",
       "    <tr>\n",
       "      <th>68</th>\n",
       "      <td>NaN</td>\n",
       "      <td>NaN</td>\n",
       "      <td>turn:lanes:forward</td>\n",
       "      <td>NaN</td>\n",
       "    </tr>\n",
       "    <tr>\n",
       "      <th>69</th>\n",
       "      <td>NaN</td>\n",
       "      <td>NaN</td>\n",
       "      <td>width:lanes</td>\n",
       "      <td>NaN</td>\n",
       "    </tr>\n",
       "    <tr>\n",
       "      <th>70</th>\n",
       "      <td>NaN</td>\n",
       "      <td>NaN</td>\n",
       "      <td>wikipedia</td>\n",
       "      <td>NaN</td>\n",
       "    </tr>\n",
       "  </tbody>\n",
       "</table>\n",
       "<p>71 rows × 4 columns</p>\n",
       "</div>"
      ],
      "text/plain": [
       "          common_tags unique_tags_hd                       unique_tags_ma  \\\n",
       "0             bicycle   access:lanes             TMC:cid_58:tabcd_1:Class   \n",
       "1              bridge      bus:lanes         TMC:cid_58:tabcd_1:Direction   \n",
       "2         destination  cycleway:both        TMC:cid_58:tabcd_1:LCLversion   \n",
       "3   destination:lanes          fixme      TMC:cid_58:tabcd_1:LocationCode   \n",
       "4     destination:ref   highway:note  TMC:cid_58:tabcd_1:NextLocationCode   \n",
       "..                ...            ...                                  ...   \n",
       "66                NaN            NaN                                 turn   \n",
       "67                NaN            NaN                  turn:lanes:backward   \n",
       "68                NaN            NaN                   turn:lanes:forward   \n",
       "69                NaN            NaN                          width:lanes   \n",
       "70                NaN            NaN                            wikipedia   \n",
       "\n",
       "         unique_tags_lz  \n",
       "0               cutting  \n",
       "1   destination:int_ref  \n",
       "2   highway:category:pl  \n",
       "3      highway:class:pl  \n",
       "4           maxaxleload  \n",
       "..                  ...  \n",
       "66                  NaN  \n",
       "67                  NaN  \n",
       "68                  NaN  \n",
       "69                  NaN  \n",
       "70                  NaN  \n",
       "\n",
       "[71 rows x 4 columns]"
      ]
     },
     "execution_count": 24,
     "metadata": {},
     "output_type": "execute_result"
    }
   ],
   "source": [
    "df = df.apply(lambda col: col.sort_values().reset_index(drop=True))\n",
    "df"
   ]
  },
  {
   "cell_type": "markdown",
   "metadata": {},
   "source": [
    "## Raster/array shape examiner"
   ]
  },
  {
   "cell_type": "code",
   "execution_count": 30,
   "metadata": {},
   "outputs": [],
   "source": [
    "import tarfile\n",
    "import rasterio as rio\n",
    "import geopandas as gpd\n",
    "\n",
    "data_dir = Path('/mnt/d/UniHeidelberg/Kurse/Masterarbeit/lulc-utility/cache')"
   ]
  },
  {
   "cell_type": "code",
   "execution_count": 27,
   "metadata": {},
   "outputs": [
    {
     "data": {
      "text/plain": [
       "(1, 1150, 1759)"
      ]
     },
     "execution_count": 27,
     "metadata": {},
     "output_type": "execute_result"
    }
   ],
   "source": [
    "with rio.open(data_dir / 'osm/v3/built-up/4c23b4d2-41b0-0b7b-0c6b-99c7d29cdb64.tiff') as src:\n",
    "    data = src.read()\n",
    "\n",
    "data.shape"
   ]
  },
  {
   "cell_type": "code",
   "execution_count": 32,
   "metadata": {},
   "outputs": [
    {
     "name": "stdout",
     "output_type": "stream",
     "text": [
      "(1266, 1285)\n"
     ]
    }
   ],
   "source": [
    "with tarfile.open(data_dir / 'imagery/sentinel_hub/imagery_v1/1d1c73d043fa298d192b28bd38120f77/response.tar', 'r') as tar:\n",
    "    tif_file = tar.extractfile('s2.tif')\n",
    "    with rio.open(tif_file) as src:\n",
    "        print(src.shape)"
   ]
  }
 ],
 "metadata": {
  "kernelspec": {
   "display_name": "lulc-ma",
   "language": "python",
   "name": "python3"
  },
  "language_info": {
   "codemirror_mode": {
    "name": "ipython",
    "version": 3
   },
   "file_extension": ".py",
   "mimetype": "text/x-python",
   "name": "python",
   "nbconvert_exporter": "python",
   "pygments_lexer": "ipython3",
   "version": "3.11.4"
  }
 },
 "nbformat": 4,
 "nbformat_minor": 2
}
