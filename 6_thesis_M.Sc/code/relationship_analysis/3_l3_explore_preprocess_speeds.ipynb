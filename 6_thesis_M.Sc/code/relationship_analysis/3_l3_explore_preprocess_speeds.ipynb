{
 "cells": [
  {
   "cell_type": "markdown",
   "metadata": {},
   "source": [
    "# Explore road network speed limits\n",
    "\n",
    "- Explore speed limits and restrictions\n",
    "- Split into speed limit classes\n",
    "- Generate statistics\n",
    "- Compare speed limit classes"
   ]
  },
  {
   "cell_type": "code",
   "execution_count": 3,
   "metadata": {},
   "outputs": [],
   "source": [
    "import requests\n",
    "import sys\n",
    "from pathlib import Path\n",
    "\n",
    "import geopandas as gpd\n",
    "import matplotlib.pyplot as plt\n",
    "import numpy as np\n",
    "import pandas as pd\n",
    "import seaborn as sns\n",
    "\n",
    "crs = 25832\n",
    "country_iso = 'DE'\n",
    "\n",
    "sns.set_theme(style=\"ticks\")\n",
    "sns.set_context(\"paper\")\n",
    "\n",
    "data_dir = Path('../data')\n",
    "out_dir = Path('../outdir')"
   ]
  },
  {
   "cell_type": "code",
   "execution_count": 4,
   "metadata": {},
   "outputs": [],
   "source": [
    "road_network = gpd.read_feather(out_dir / 'preprocessed_road_network.feather')"
   ]
  },
  {
   "cell_type": "markdown",
   "metadata": {},
   "source": [
    "## Explore speed values"
   ]
  },
  {
   "cell_type": "code",
   "execution_count": 5,
   "metadata": {},
   "outputs": [
    {
     "data": {
      "text/plain": [
       "Index(['geometry', 'highway', 'maxspeed', 'maxspeed:conditional',\n",
       "       'maxspeed:reason', 'maxspeed:type', 'motorroad', 'source:maxspeed',\n",
       "       'temporary:maxspeed', 'zone:maxspeed', 'zone:traffic'],\n",
       "      dtype='object')"
      ]
     },
     "execution_count": 5,
     "metadata": {},
     "output_type": "execute_result"
    }
   ],
   "source": [
    "road_network.columns"
   ]
  },
  {
   "cell_type": "markdown",
   "metadata": {},
   "source": [
    "Check for any lists in the road network"
   ]
  },
  {
   "cell_type": "code",
   "execution_count": 6,
   "metadata": {},
   "outputs": [
    {
     "name": "stderr",
     "output_type": "stream",
     "text": [
      "/tmp/ipykernel_1590/2737975753.py:1: FutureWarning: DataFrame.applymap has been deprecated. Use DataFrame.map instead.\n",
      "  any(road_network.applymap(lambda x: isinstance(x, list)).any())\n"
     ]
    },
    {
     "data": {
      "text/plain": [
       "False"
      ]
     },
     "execution_count": 6,
     "metadata": {},
     "output_type": "execute_result"
    }
   ],
   "source": [
    "any(road_network.applymap(lambda x: isinstance(x, list)).any())"
   ]
  },
  {
   "cell_type": "code",
   "execution_count": 7,
   "metadata": {},
   "outputs": [
    {
     "data": {
      "text/plain": [
       "maxspeed\n",
       "None        76.34\n",
       "30          11.92\n",
       "50           6.93\n",
       "70           1.66\n",
       "100          0.90\n",
       "10           0.48\n",
       "20           0.40\n",
       "120          0.40\n",
       "none         0.32\n",
       "walk         0.23\n",
       "7            0.14\n",
       "60           0.09\n",
       "15           0.06\n",
       "80           0.04\n",
       "5            0.02\n",
       "130          0.01\n",
       "40           0.01\n",
       "90           0.01\n",
       "6            0.01\n",
       "32           0.01\n",
       "8            0.00\n",
       "25           0.00\n",
       "variable     0.00\n",
       "DE:urban     0.00\n",
       "DE:walk      0.00\n",
       "Name: count, dtype: float64"
      ]
     },
     "execution_count": 7,
     "metadata": {},
     "output_type": "execute_result"
    }
   ],
   "source": [
    "total_count = road_network.shape[0]\n",
    "round((road_network['maxspeed'].value_counts(dropna=False) / total_count) * 100, 2)"
   ]
  },
  {
   "cell_type": "code",
   "execution_count": 8,
   "metadata": {},
   "outputs": [
    {
     "data": {
      "text/plain": [
       "maxspeed\n",
       "None        102871\n",
       "30           16065\n",
       "50            9341\n",
       "70            2234\n",
       "100           1209\n",
       "10             641\n",
       "20             544\n",
       "120            533\n",
       "none           437\n",
       "walk           316\n",
       "7              195\n",
       "60             121\n",
       "15              80\n",
       "80              59\n",
       "5               24\n",
       "130             19\n",
       "40              16\n",
       "90              13\n",
       "6               12\n",
       "32               9\n",
       "8                5\n",
       "25               5\n",
       "variable         3\n",
       "DE:urban         1\n",
       "DE:walk          1\n",
       "Name: count, dtype: int64"
      ]
     },
     "execution_count": 8,
     "metadata": {},
     "output_type": "execute_result"
    }
   ],
   "source": [
    "road_network['maxspeed'].value_counts(dropna=False).sort_values(ascending=False)"
   ]
  },
  {
   "cell_type": "markdown",
   "metadata": {},
   "source": [
    "Remove all occurences of 'sign' (no meaning)"
   ]
  },
  {
   "cell_type": "code",
   "execution_count": 9,
   "metadata": {},
   "outputs": [],
   "source": [
    "road_network = road_network.replace('sign', np.nan)"
   ]
  },
  {
   "cell_type": "markdown",
   "metadata": {},
   "source": [
    "Get unique combinations of values and save as csv"
   ]
  },
  {
   "cell_type": "code",
   "execution_count": 10,
   "metadata": {},
   "outputs": [],
   "source": [
    "speed_cols_list = ['maxspeed', 'maxspeed:type', 'source:maxspeed', 'zone:maxspeed', 'zone:traffic']"
   ]
  },
  {
   "cell_type": "code",
   "execution_count": 11,
   "metadata": {},
   "outputs": [],
   "source": [
    "road_network[speed_cols_list].value_counts(dropna=False).sort_values(ascending=False).reset_index().to_csv(out_dir / 'road_network_speeds_col.csv')"
   ]
  },
  {
   "cell_type": "markdown",
   "metadata": {},
   "source": [
    "Count how many missing maxspeed values can be filled with speed cols"
   ]
  },
  {
   "cell_type": "code",
   "execution_count": 12,
   "metadata": {},
   "outputs": [
    {
     "data": {
      "text/plain": [
       "528"
      ]
     },
     "execution_count": 12,
     "metadata": {},
     "output_type": "execute_result"
    }
   ],
   "source": [
    "road_network.loc[road_network['maxspeed'].isna(), speed_cols_list].notna().any(axis=1).sum()"
   ]
  },
  {
   "cell_type": "markdown",
   "metadata": {},
   "source": [
    "## Preprocess speed limit values"
   ]
  },
  {
   "cell_type": "code",
   "execution_count": 4,
   "metadata": {},
   "outputs": [],
   "source": [
    "preprocessed_road_network = road_network.copy()"
   ]
  },
  {
   "cell_type": "markdown",
   "metadata": {},
   "source": [
    "Query car speed values from ORS"
   ]
  },
  {
   "cell_type": "code",
   "execution_count": 49,
   "metadata": {},
   "outputs": [],
   "source": [
    "r = requests.get(\n",
    "    r'https://raw.githubusercontent.com/GIScience/openrouteservice/master/ors-engine/src/main/resources/resources/services/routing/speed_limits/car.json'\n",
    ")\n",
    "if r.status_code == 200:  # Status == OK\n",
    "    hwy_speeds = r.json()\n",
    "else:\n",
    "    print(f'Error when requesting ORS for speed limits: {r.status_code}')\n",
    "    sys.exit()"
   ]
  },
  {
   "cell_type": "markdown",
   "metadata": {},
   "source": [
    "Replace 'walk' in maxspeed with walking-speed in Germany"
   ]
  },
  {
   "cell_type": "code",
   "execution_count": 50,
   "metadata": {},
   "outputs": [],
   "source": [
    "walk_speed = hwy_speeds['max_speeds'][f'{country_iso}:living_street']\n",
    "preprocessed_road_network['maxspeed'] = preprocessed_road_network['maxspeed'].replace(['walk', f'{country_iso}:walk'], walk_speed)"
   ]
  },
  {
   "cell_type": "markdown",
   "metadata": {},
   "source": [
    "Replace f'{country_iso}:urban' in maxspeed with urban speed limit in Germany"
   ]
  },
  {
   "cell_type": "code",
   "execution_count": 51,
   "metadata": {},
   "outputs": [],
   "source": [
    "urban_speed = hwy_speeds['max_speeds'][f'{country_iso}:urban']\n",
    "preprocessed_road_network['maxspeed'] = preprocessed_road_network['maxspeed'].replace(f'{country_iso}:urban', urban_speed)"
   ]
  },
  {
   "cell_type": "markdown",
   "metadata": {},
   "source": [
    "Replace 'variable' in maxspeed with None"
   ]
  },
  {
   "cell_type": "code",
   "execution_count": 52,
   "metadata": {},
   "outputs": [],
   "source": [
    "preprocessed_road_network['maxspeed'] = preprocessed_road_network['maxspeed'].replace('variable', None)"
   ]
  },
  {
   "cell_type": "markdown",
   "metadata": {},
   "source": [
    "Replace 'default' in maxspeed with according maxspeed from route type"
   ]
  },
  {
   "cell_type": "code",
   "execution_count": 53,
   "metadata": {},
   "outputs": [],
   "source": [
    "preprocessed_road_network['maxspeed'] = preprocessed_road_network.apply(\n",
    "    lambda row: hwy_speeds['default'][row['highway']] if row['maxspeed'] == 'default' else row['maxspeed'], \n",
    "    axis=1\n",
    ")"
   ]
  },
  {
   "cell_type": "markdown",
   "metadata": {},
   "source": [
    "Replace 'none' (value) in maxspeed with 255 to show unlimited speed limit"
   ]
  },
  {
   "cell_type": "code",
   "execution_count": 54,
   "metadata": {},
   "outputs": [],
   "source": [
    "max_speed = pd.to_numeric(preprocessed_road_network['maxspeed'], errors='coerce').max().astype(int)\n",
    "preprocessed_road_network['maxspeed'] = preprocessed_road_network['maxspeed'].replace('none', 255) # none (str) != None (Nan)"
   ]
  },
  {
   "cell_type": "markdown",
   "metadata": {},
   "source": [
    "Checkpoint v1"
   ]
  },
  {
   "cell_type": "code",
   "execution_count": 55,
   "metadata": {},
   "outputs": [],
   "source": [
    "preprocessed_road_network[speed_cols_list].value_counts(dropna=False).sort_values(ascending=False).reset_index().to_csv(out_dir / 'preprocessed_road_network_speeds_v1.csv')"
   ]
  },
  {
   "cell_type": "markdown",
   "metadata": {},
   "source": [
    "### Missing value imputation (manual)"
   ]
  },
  {
   "cell_type": "markdown",
   "metadata": {},
   "source": [
    "Step 1: Merge 'zone:traffic' to 'zone:maxspeed'"
   ]
  },
  {
   "cell_type": "code",
   "execution_count": 56,
   "metadata": {},
   "outputs": [],
   "source": [
    "if 'zone:maxspeed' not in preprocessed_road_network.columns:\n",
    "    preprocessed_road_network['zone:maxspeed'] = np.nan"
   ]
  },
  {
   "cell_type": "code",
   "execution_count": 57,
   "metadata": {},
   "outputs": [],
   "source": [
    "if 'zone:traffic' in preprocessed_road_network.columns:\n",
    "    preprocessed_road_network['zone:maxspeed'] = preprocessed_road_network['zone:maxspeed'].fillna(preprocessed_road_network['zone:traffic'])"
   ]
  },
  {
   "cell_type": "code",
   "execution_count": 58,
   "metadata": {},
   "outputs": [
    {
     "data": {
      "text/plain": [
       "DE:urban        1064\n",
       "DE:rural         473\n",
       "DE:30            362\n",
       "DE:motorway      124\n",
       "urban             62\n",
       "20                11\n",
       "DE:motorroad      11\n",
       "30                 9\n",
       "rural              6\n",
       "DE:10              3\n",
       "DE:20              2\n",
       "DE.rural           1\n",
       "Name: zone:maxspeed, dtype: int64"
      ]
     },
     "execution_count": 58,
     "metadata": {},
     "output_type": "execute_result"
    }
   ],
   "source": [
    "preprocessed_road_network['zone:maxspeed'].value_counts()"
   ]
  },
  {
   "cell_type": "markdown",
   "metadata": {},
   "source": [
    "Step 2: Merge 'zone:maxspeed' to 'source:maxspeed'"
   ]
  },
  {
   "cell_type": "code",
   "execution_count": 59,
   "metadata": {},
   "outputs": [],
   "source": [
    "if 'source:maxspeed' not in preprocessed_road_network.columns:\n",
    "    preprocessed_road_network['source:maxspeed'] = np.nan"
   ]
  },
  {
   "cell_type": "code",
   "execution_count": 60,
   "metadata": {},
   "outputs": [],
   "source": [
    "if 'zone:maxspeed' in preprocessed_road_network.columns:\n",
    "    preprocessed_road_network['source:maxspeed'] = preprocessed_road_network['source:maxspeed'].fillna(preprocessed_road_network['zone:maxspeed'])"
   ]
  },
  {
   "cell_type": "code",
   "execution_count": 61,
   "metadata": {},
   "outputs": [
    {
     "data": {
      "text/plain": [
       "DE:urban                                          3446\n",
       "DE:zone30                                         1795\n",
       "DE:rural                                           811\n",
       "DE:motorway                                        453\n",
       "DE:zone:30                                         393\n",
       "DE:30                                              347\n",
       "DE:zone                                            253\n",
       "DE:bicycle_road                                     57\n",
       "urban                                               49\n",
       "DE:zone:20                                          12\n",
       "DE:motorroad                                        11\n",
       "30                                                   9\n",
       "www.openstreetmap.org/browse/changeset/8913447       8\n",
       "20                                                   8\n",
       "DE:zone20                                            7\n",
       "implicit                                             5\n",
       "zone                                                 5\n",
       "DE:zone10                                            5\n",
       "DE:living_street                                     3\n",
       "DE:10                                                3\n",
       "DE:20                                                2\n",
       "de:zone30                                            2\n",
       "DE.rural                                             1\n",
       "Bing 2012                                            1\n",
       "Name: source:maxspeed, dtype: int64"
      ]
     },
     "execution_count": 61,
     "metadata": {},
     "output_type": "execute_result"
    }
   ],
   "source": [
    "preprocessed_road_network['source:maxspeed'].value_counts()"
   ]
  },
  {
   "cell_type": "markdown",
   "metadata": {},
   "source": [
    "Step 3: Merge 'maxspeed:type' to 'source:maxspeed'"
   ]
  },
  {
   "cell_type": "code",
   "execution_count": 62,
   "metadata": {},
   "outputs": [],
   "source": [
    "if 'maxspeed:type' in preprocessed_road_network.columns:\n",
    "    preprocessed_road_network['source:maxspeed'] = preprocessed_road_network['source:maxspeed'].fillna(preprocessed_road_network['maxspeed:type'])"
   ]
  },
  {
   "cell_type": "code",
   "execution_count": 63,
   "metadata": {},
   "outputs": [
    {
     "data": {
      "text/plain": [
       "DE:urban                                          3830\n",
       "DE:zone30                                         2430\n",
       "DE:rural                                           871\n",
       "DE:motorway                                        453\n",
       "DE:zone:30                                         393\n",
       "DE:zone                                            377\n",
       "DE:30                                              347\n",
       "DE:bicycle_road                                     57\n",
       "urban                                               49\n",
       "DE:zone20                                           22\n",
       "DE:zone:20                                          12\n",
       "DE:motorroad                                        11\n",
       "DE:zone50                                           10\n",
       "30                                                   9\n",
       "www.openstreetmap.org/browse/changeset/8913447       8\n",
       "20                                                   8\n",
       "DE:zone10                                            8\n",
       "implicit                                             5\n",
       "zone                                                 5\n",
       "DE:living_street                                     3\n",
       "DE:10                                                3\n",
       "DE:20                                                2\n",
       "de:zone30                                            2\n",
       "DE.rural                                             1\n",
       "Bing 2012                                            1\n",
       "Name: source:maxspeed, dtype: int64"
      ]
     },
     "execution_count": 63,
     "metadata": {},
     "output_type": "execute_result"
    }
   ],
   "source": [
    "preprocessed_road_network['source:maxspeed'].value_counts()"
   ]
  },
  {
   "cell_type": "markdown",
   "metadata": {},
   "source": [
    "Checkpoint v2"
   ]
  },
  {
   "cell_type": "code",
   "execution_count": 64,
   "metadata": {},
   "outputs": [],
   "source": [
    "preprocessed_road_network[speed_cols_list].value_counts(dropna=False).sort_values(ascending=False).reset_index().to_csv(out_dir / 'preprocessed_road_network_speeds_v2.csv')"
   ]
  },
  {
   "cell_type": "markdown",
   "metadata": {},
   "source": [
    "### Fill maxspeed with filled source:maxspeed"
   ]
  },
  {
   "cell_type": "code",
   "execution_count": 65,
   "metadata": {},
   "outputs": [
    {
     "data": {
      "text/plain": [
       "20                  1\n",
       "urban               2\n",
       "DE:zone30           3\n",
       "30                  3\n",
       "DE:zone             4\n",
       "DE:motorway         7\n",
       "DE:rural          178\n",
       "DE:urban          330\n",
       "None           102346\n",
       "Name: source:maxspeed, dtype: int64"
      ]
     },
     "execution_count": 65,
     "metadata": {},
     "output_type": "execute_result"
    }
   ],
   "source": [
    "preprocessed_road_network[preprocessed_road_network['maxspeed'].isna()]['source:maxspeed'].value_counts(dropna=False).sort_values()"
   ]
  },
  {
   "cell_type": "code",
   "execution_count": 66,
   "metadata": {},
   "outputs": [],
   "source": [
    "urban_speed = hwy_speeds['max_speeds'][f'{country_iso}:urban']\n",
    "rural_speed = hwy_speeds['max_speeds'][f'{country_iso}:rural']\n",
    "motorway_speed = hwy_speeds['max_speeds'][f'{country_iso}:motorway']"
   ]
  },
  {
   "cell_type": "markdown",
   "metadata": {},
   "source": [
    "Remove invalid zone values or extract numbers"
   ]
  },
  {
   "cell_type": "code",
   "execution_count": 67,
   "metadata": {},
   "outputs": [],
   "source": [
    "preprocessed_road_network['source:maxspeed'] = preprocessed_road_network[preprocessed_road_network['maxspeed'].isna()]['source:maxspeed'].replace(f'{country_iso}:zone', None)\n",
    "preprocessed_road_network['source:maxspeed'] = preprocessed_road_network['source:maxspeed'].str.replace('DE:zone', '')"
   ]
  },
  {
   "cell_type": "markdown",
   "metadata": {},
   "source": [
    "Replace valid zone values"
   ]
  },
  {
   "cell_type": "code",
   "execution_count": 68,
   "metadata": {},
   "outputs": [],
   "source": [
    "preprocessed_road_network['source:maxspeed'] = preprocessed_road_network[preprocessed_road_network['maxspeed'].isna()]['source:maxspeed'].replace(['urban', f'{country_iso}:urban'], urban_speed)\n",
    "preprocessed_road_network['source:maxspeed'] = preprocessed_road_network[preprocessed_road_network['maxspeed'].isna()]['source:maxspeed'].replace(['rural', f'{country_iso}:rural'], rural_speed)\n",
    "preprocessed_road_network['source:maxspeed'] = preprocessed_road_network[preprocessed_road_network['maxspeed'].isna()]['source:maxspeed'].replace(['motorway', f'{country_iso}:motorway'], motorway_speed)"
   ]
  },
  {
   "cell_type": "code",
   "execution_count": 69,
   "metadata": {},
   "outputs": [
    {
     "data": {
      "text/plain": [
       "20           1\n",
       "30           6\n",
       "130          7\n",
       "100        178\n",
       "50         332\n",
       "None    102350\n",
       "Name: source:maxspeed, dtype: int64"
      ]
     },
     "execution_count": 69,
     "metadata": {},
     "output_type": "execute_result"
    }
   ],
   "source": [
    "preprocessed_road_network[preprocessed_road_network['maxspeed'].isna()]['source:maxspeed'].value_counts(dropna=False).sort_values()"
   ]
  },
  {
   "cell_type": "markdown",
   "metadata": {},
   "source": [
    "Fill empty maxspeed with values from filled and enriched source:maxspeed "
   ]
  },
  {
   "cell_type": "code",
   "execution_count": 70,
   "metadata": {},
   "outputs": [],
   "source": [
    "preprocessed_road_network['maxspeed'] = preprocessed_road_network['maxspeed'].fillna(preprocessed_road_network['source:maxspeed'])"
   ]
  },
  {
   "cell_type": "markdown",
   "metadata": {},
   "source": [
    "Fill Nones with zeros "
   ]
  },
  {
   "cell_type": "code",
   "execution_count": 71,
   "metadata": {},
   "outputs": [],
   "source": [
    "preprocessed_road_network['maxspeed'] = preprocessed_road_network['maxspeed'].fillna(0)"
   ]
  },
  {
   "cell_type": "markdown",
   "metadata": {},
   "source": [
    "Cast maxspeed col as int"
   ]
  },
  {
   "cell_type": "code",
   "execution_count": 72,
   "metadata": {},
   "outputs": [],
   "source": [
    "preprocessed_road_network['maxspeed'] = preprocessed_road_network['maxspeed'].astype(int)"
   ]
  },
  {
   "cell_type": "markdown",
   "metadata": {},
   "source": [
    "Checkpoint v3"
   ]
  },
  {
   "cell_type": "code",
   "execution_count": 73,
   "metadata": {},
   "outputs": [],
   "source": [
    "preprocessed_road_network[speed_cols_list].value_counts(dropna=False).sort_values(ascending=False).reset_index().to_csv(out_dir / 'preprocessed_road_network_speeds_v3.csv')"
   ]
  },
  {
   "cell_type": "markdown",
   "metadata": {},
   "source": [
    "### Speed limit assignment"
   ]
  },
  {
   "cell_type": "code",
   "execution_count": 75,
   "metadata": {},
   "outputs": [
    {
     "data": {
      "text/plain": [
       "0      102350\n",
       "30      16071\n",
       "50       9674\n",
       "70       2234\n",
       "100      1387\n",
       "10        641\n",
       "20        545\n",
       "120       533\n",
       "7         512\n",
       "255       437\n",
       "60        121\n",
       "15         80\n",
       "80         59\n",
       "130        26\n",
       "5          24\n",
       "40         16\n",
       "90         13\n",
       "6          12\n",
       "32          9\n",
       "8           5\n",
       "25          5\n",
       "Name: maxspeed, dtype: int64"
      ]
     },
     "execution_count": 75,
     "metadata": {},
     "output_type": "execute_result"
    }
   ],
   "source": [
    "preprocessed_road_network['maxspeed'].value_counts(dropna=False)"
   ]
  },
  {
   "cell_type": "markdown",
   "metadata": {},
   "source": [
    "Define classes "
   ]
  },
  {
   "cell_type": "code",
   "execution_count": 76,
   "metadata": {},
   "outputs": [],
   "source": [
    "speed_limits_dict = {\n",
    "    'class_borders': [1, 10, 30, 50, 70, 90, 110, 130, 255],\n",
    "    'class_labels': ['walk', 'very_low', 'low', 'medium', 'high', 'very_high', 'very_high+', 'unlimited']\n",
    "}"
   ]
  },
  {
   "cell_type": "markdown",
   "metadata": {},
   "source": [
    "Fill new col 'speed_limit_class'"
   ]
  },
  {
   "cell_type": "code",
   "execution_count": 77,
   "metadata": {},
   "outputs": [],
   "source": [
    "preprocessed_road_network['speed_limit_class'] = pd.cut(\n",
    "    preprocessed_road_network['maxspeed'],\n",
    "    bins=speed_limits_dict['class_borders'],\n",
    "    labels=speed_limits_dict['class_labels'],\n",
    "    include_lowest=True\n",
    ")"
   ]
  },
  {
   "cell_type": "markdown",
   "metadata": {},
   "source": [
    "Add unknowns"
   ]
  },
  {
   "cell_type": "code",
   "execution_count": 78,
   "metadata": {},
   "outputs": [],
   "source": [
    "preprocessed_road_network['speed_limit_class'] = preprocessed_road_network['speed_limit_class'].cat.add_categories('unknown')\n",
    "preprocessed_road_network['speed_limit_class'] = preprocessed_road_network['speed_limit_class'].fillna('unknown')"
   ]
  },
  {
   "cell_type": "code",
   "execution_count": 79,
   "metadata": {},
   "outputs": [
    {
     "data": {
      "text/plain": [
       "unknown       102350\n",
       "very_low       16701\n",
       "low             9699\n",
       "medium          2355\n",
       "very_high       1387\n",
       "walk            1194\n",
       "very_high+       559\n",
       "unlimited        437\n",
       "high              72\n",
       "Name: speed_limit_class, dtype: int64"
      ]
     },
     "execution_count": 79,
     "metadata": {},
     "output_type": "execute_result"
    }
   ],
   "source": [
    "preprocessed_road_network['speed_limit_class'].value_counts(dropna=False)"
   ]
  },
  {
   "cell_type": "markdown",
   "metadata": {},
   "source": [
    "## Preprocessing speeds function"
   ]
  },
  {
   "cell_type": "code",
   "execution_count": 14,
   "metadata": {},
   "outputs": [],
   "source": [
    "new_preprocess = road_network.copy()"
   ]
  },
  {
   "cell_type": "code",
   "execution_count": 15,
   "metadata": {},
   "outputs": [
    {
     "data": {
      "text/plain": [
       "maxspeed\n",
       "None        102871\n",
       "30           16065\n",
       "50            9341\n",
       "70            2234\n",
       "100           1209\n",
       "10             641\n",
       "20             544\n",
       "120            533\n",
       "none           437\n",
       "walk           316\n",
       "7              195\n",
       "60             121\n",
       "15              80\n",
       "80              59\n",
       "5               24\n",
       "130             19\n",
       "40              16\n",
       "90              13\n",
       "6               12\n",
       "32               9\n",
       "8                5\n",
       "25               5\n",
       "variable         3\n",
       "DE:urban         1\n",
       "DE:walk          1\n",
       "Name: count, dtype: int64"
      ]
     },
     "execution_count": 15,
     "metadata": {},
     "output_type": "execute_result"
    }
   ],
   "source": [
    "new_preprocess['maxspeed'].value_counts(dropna=False)"
   ]
  },
  {
   "cell_type": "code",
   "execution_count": 16,
   "metadata": {},
   "outputs": [],
   "source": [
    "speed_cols = ['zone:maxspeed', 'zone:traffic', 'maxspeed:type', 'source:maxspeed', 'maxspeed']\n",
    "\n",
    "speed_zone_types = ['living_street', 'urban', 'rural', 'trunk', 'motorway']\n",
    "\n",
    "speed_limit_classes = {\n",
    "    \"class_bounds\": [0, 1, 10, 30, 50, 70, 90, 110, 130, 255],\n",
    "    \"class_labels\": ['unknown', 'walk', 'very_low', 'low', 'medium', 'high', 'very_high', 'very_high+', 'unlimited']\n",
    "}"
   ]
  },
  {
   "cell_type": "code",
   "execution_count": 17,
   "metadata": {},
   "outputs": [],
   "source": [
    "# Query OSM speed data\n",
    "speeds_request = requests.get(\n",
    "    r'https://raw.githubusercontent.com/GIScience/openrouteservice/master/ors-engine/src/main/resources/resources/services/routing/speed_limits/car.json'\n",
    ")\n",
    "if speeds_request.status_code == 200:  # Status == OK\n",
    "    hwy_speeds = speeds_request.json()\n",
    "    country_speeds = hwy_speeds['max_speeds']\n",
    "    default_speeds = hwy_speeds['default']\n",
    "else:\n",
    "    print(f'Error when requesting ORS for speed limits: {speeds_request.status_code}')\n",
    "    sys.exit()\n",
    "\n",
    "# Create speed type mapping dictionary\n",
    "speed_zone_types_mapping = {\n",
    "    **{f'{key}': country_speeds.get(f'{country_iso}:{key}', default_speeds.get(key)) for key in speed_zone_types},\n",
    "    'walk': country_speeds.get(f'{country_iso}:living_street', default_speeds.get('living_street')),\n",
    "    'variable': np.nan,\n",
    "    # none != Nan, so set to 255 as 'unlimited'\n",
    "    'none': 255,\n",
    "}"
   ]
  },
  {
   "cell_type": "code",
   "execution_count": 18,
   "metadata": {},
   "outputs": [],
   "source": [
    "def feature_engineer_maxspeeds(road_network: gpd.GeoDataFrame) -> gpd.GeoDataFrame:\n",
    "    \"\"\"This class method feature engineers the maxspeed column by applying manual MVI and casting to integers.\"\"\"\n",
    "    # Remove all occurrences of 'sign'\n",
    "    road_network = road_network.replace('sign', np.nan, regex=False)\n",
    "\n",
    "    # Enrich source:maxspeed by merging other columns\n",
    "    for column in speed_cols:\n",
    "        # Create col if it doesn't exist\n",
    "        road_network[column] = road_network[column] if column in road_network.columns else np.nan\n",
    "        # Add vales from col to source:maxspeed\n",
    "        if road_network['source:maxspeed'].isna().any():\n",
    "            road_network['source:maxspeed'] = road_network['source:maxspeed'].fillna(road_network[column])\n",
    "\n",
    "    road_network = __cleanup_speed_column(road_network, 'source:maxspeed', speed_zone_types_mapping)\n",
    "    road_network = __cleanup_speed_column(road_network, 'maxspeed', speed_zone_types_mapping)\n",
    "\n",
    "    # Replace values in maxspeed with mapping_dict\n",
    "    road_network['maxspeed'] = road_network['maxspeed'].replace(speed_zone_types_mapping)\n",
    "    # Replace values in source:maxspeed only when maxspeed is Nan (if maxspeed exists, MVI not necessary)\n",
    "    road_network.loc[road_network['maxspeed'].isna(), 'source:maxspeed'] = road_network['source:maxspeed'].replace(speed_zone_types_mapping)\n",
    "    # Fill Nans in maxspeed with enriched source:maxspeed, fill remaining Nans with zeros\n",
    "    road_network['maxspeed'] = road_network['maxspeed'].fillna(road_network['source:maxspeed']).fillna(0)\n",
    "\n",
    "    def assign_maxspeeds_from_file(row):\n",
    "        # Create adapted mapping dictionary using the speed file and highway type\n",
    "        file_mapping_dict = {\n",
    "            **{key: country_speeds.get(f'{country_iso}:{key}', default_speeds.get(row['highway'])) for key in speed_zone_types_mapping.keys()},\n",
    "            # Check if highway type in default speeds, else set to 0\n",
    "            'default': default_speeds.get(row['highway'], 0)\n",
    "        }\n",
    "\n",
    "        return file_mapping_dict.get(row['maxspeed'], row['maxspeed'])\n",
    "\n",
    "    # Get speed values for speed type maxspeeds\n",
    "    road_network['maxspeed'] = road_network.apply(assign_maxspeeds_from_file, axis=1)\n",
    "    # Convert maxspeed values to integers\n",
    "    road_network['maxspeed'] = road_network['maxspeed'].astype(int)\n",
    "\n",
    "    # Return road network with feature engineered maxspeed, drop used cols except last one (maxspeed)\n",
    "    return road_network.drop(columns=speed_cols[:-1], errors='ignore')\n",
    "\n",
    "def categorize_speed_limits(road_network: gpd.GeoDataFrame) -> gpd.GeoDataFrame:\n",
    "    \"\"\"This class method categorizes the speed limits of the road network.\"\"\"\n",
    "    road_network['speed_limit_class'] = (\n",
    "        pd.cut(\n",
    "            road_network['maxspeed'],\n",
    "            bins=speed_limit_classes['class_bounds'],\n",
    "            labels=speed_limit_classes['class_labels'],\n",
    "            include_lowest=True,\n",
    "            ordered=True\n",
    "        )\n",
    "    )\n",
    "    # Drop all roads without assigned speed limit class\n",
    "    road_network.dropna(subset=['speed_limit_class'], inplace=True)\n",
    "    # Convert categorical col to strings (for OHE)\n",
    "    road_network['speed_limit_class'] = road_network['speed_limit_class'].astype(str)\n",
    "\n",
    "    return road_network\n",
    "\n",
    "\n",
    "@staticmethod\n",
    "def __cleanup_speed_column(df, column_name, mapping_dict):\n",
    "    df[column_name] = (\n",
    "        df[column_name]\n",
    "        # Replace all points with colons (points are probably wrongly mapped)\n",
    "        .str.replace('.', ':', regex=False)\n",
    "        # Remove everything before and including a colon ':' (e.g. DE:zone30 -> zone30)\n",
    "        .str.replace('^.*?:', '', regex=True)\n",
    "        # Remove all occurrences of 'zone' (e.g. zone30 -> 30)\n",
    "        .str.replace('zone', '', regex=False)\n",
    "        # If remaining values are empty strings, convert them to Nan\n",
    "        .replace('', np.nan)\n",
    "    )\n",
    "    # Check remains: if one of the conditions is True, keep value\n",
    "    df[column_name] = df[column_name].where(\n",
    "        # If value is Nan\n",
    "        df[column_name].isna() |\n",
    "        # If value is in speed_zone_types_mapping keys\n",
    "        df[column_name].isin(mapping_dict.keys()) |\n",
    "        # If value is a digit\n",
    "        df[column_name].str.isdigit() |\n",
    "        # Default values get assigned later on (special case)\n",
    "        (df[column_name] == 'default')\n",
    "    )\n",
    "    return df"
   ]
  },
  {
   "cell_type": "code",
   "execution_count": 19,
   "metadata": {},
   "outputs": [],
   "source": [
    "country_iso = 'DE'\n",
    "new_preprocess = feature_engineer_maxspeeds(new_preprocess)\n",
    "new_preprocess = categorize_speed_limits(new_preprocess)"
   ]
  },
  {
   "cell_type": "code",
   "execution_count": 20,
   "metadata": {},
   "outputs": [
    {
     "name": "stdout",
     "output_type": "stream",
     "text": [
      "speed_limit_class\n",
      "high             18.49\n",
      "low             837.10\n",
      "medium          265.73\n",
      "unknown       13374.75\n",
      "unlimited       132.73\n",
      "very_high       361.76\n",
      "very_high+      136.70\n",
      "very_low       2376.67\n",
      "walk            102.65\n",
      "Name: road_length, dtype: float64\n",
      "Total length: 17606.58\n"
     ]
    },
    {
     "data": {
      "text/plain": [
       "speed_limit_class\n",
       "unknown       75.96\n",
       "very_low      13.50\n",
       "low            4.75\n",
       "very_high      2.05\n",
       "medium         1.51\n",
       "very_high+     0.78\n",
       "unlimited      0.75\n",
       "walk           0.58\n",
       "high           0.10\n",
       "Name: road_length, dtype: float64"
      ]
     },
     "execution_count": 20,
     "metadata": {},
     "output_type": "execute_result"
    }
   ],
   "source": [
    "new_preprocess.to_crs(epsg=25832, inplace=True)\n",
    "# Calculate the length of each feature\n",
    "new_preprocess['road_length'] = new_preprocess['geometry'].length / 1000\n",
    "\n",
    "# Calculate total length for each speed_limit_class\n",
    "total_length_per_speed = new_preprocess.groupby('speed_limit_class')['road_length'].sum()\n",
    "\n",
    "total_length_per_speed.sort_values(ascending=False)\n",
    "print(round(total_length_per_speed, 2))\n",
    "\n",
    "# Calculate total length\n",
    "total_length = total_length_per_speed.sum()\n",
    "print('Total length:', round(total_length, 2))\n",
    "\n",
    "# Calculate the proportion of each 'highway' type\n",
    "proportion_per_speed = round((total_length_per_speed / total_length) * 100, 2)\n",
    "\n",
    "# Sort the result\n",
    "proportion_per_speed.sort_values(ascending=False)"
   ]
  },
  {
   "cell_type": "code",
   "execution_count": 21,
   "metadata": {},
   "outputs": [
    {
     "name": "stdout",
     "output_type": "stream",
     "text": [
      "speed_limit_class\n",
      "high            18.49\n",
      "low            837.10\n",
      "medium         265.73\n",
      "unlimited      132.73\n",
      "very_high      361.76\n",
      "very_high+     136.70\n",
      "very_low      2376.67\n",
      "walk           102.65\n",
      "Name: road_length, dtype: float64\n",
      "Total length: 4231.83\n"
     ]
    },
    {
     "data": {
      "text/plain": [
       "speed_limit_class\n",
       "very_low      56.16\n",
       "low           19.78\n",
       "very_high      8.55\n",
       "medium         6.28\n",
       "very_high+     3.23\n",
       "unlimited      3.14\n",
       "walk           2.43\n",
       "high           0.44\n",
       "Name: road_length, dtype: float64"
      ]
     },
     "execution_count": 21,
     "metadata": {},
     "output_type": "execute_result"
    }
   ],
   "source": [
    "new_preprocess_ex = new_preprocess.copy()\n",
    "new_preprocess_ex = new_preprocess_ex[new_preprocess_ex['speed_limit_class'] != 'unknown']\n",
    "# Calculate the length of each feature\n",
    "new_preprocess_ex['road_length'] = new_preprocess_ex['geometry'].length / 1000\n",
    "\n",
    "# Calculate total length for each speed_limit_class\n",
    "total_length_per_speed = new_preprocess_ex.groupby('speed_limit_class')['road_length'].sum()\n",
    "print(round(total_length_per_speed, 2))\n",
    "\n",
    "# Calculate total length\n",
    "total_length = total_length_per_speed.sum()\n",
    "print('Total length:', round(total_length, 2))\n",
    "\n",
    "# Calculate the proportion of each 'highway' type\n",
    "proportion_per_speed = round((total_length_per_speed / total_length) * 100, 2)\n",
    "\n",
    "# Sort the result\n",
    "proportion_per_speed.sort_values(ascending=False)"
   ]
  },
  {
   "cell_type": "code",
   "execution_count": 25,
   "metadata": {},
   "outputs": [
    {
     "name": "stdout",
     "output_type": "stream",
     "text": [
      "speed_limit_class\n",
      "unknown       102350\n",
      "very_low       16701\n",
      "low             9699\n",
      "medium          2355\n",
      "very_high       1387\n",
      "walk            1194\n",
      "very_high+       559\n",
      "unlimited        437\n",
      "high              72\n",
      "Name: count, dtype: int64\n"
     ]
    },
    {
     "data": {
      "text/plain": [
       "<Figure size 1000x1000 with 0 Axes>"
      ]
     },
     "metadata": {},
     "output_type": "display_data"
    },
    {
     "data": {
      "image/png": "[encoded data removed]",
      "text/plain": [
       "<Figure size 640x480 with 1 Axes>"
      ]
     },
     "metadata": {},
     "output_type": "display_data"
    }
   ],
   "source": [
    "print(new_preprocess['speed_limit_class'].value_counts(dropna=False))\n",
    "\n",
    "plt.figure(figsize=(10, 10))\n",
    "\n",
    "new_preprocess[new_preprocess['speed_limit_class'] != 'unknown'].plot(\n",
    "    column='speed_limit_class', \n",
    "    cmap='terrain', \n",
    "    linewidth=0.2, \n",
    "    legend=True, \n",
    "    legend_kwds={'loc': 'upper right', 'title': 'Speed Limit Class', 'title_fontsize': 7, 'fontsize': 5, 'markerscale': 0.7}\n",
    ")\n",
    "plt.title('Road Network Speed Limit Classes for Selected AOI')\n",
    "\n",
    "plt.savefig(out_dir / 'road_network_speeds.png', dpi=300, bbox_inches='tight')\n",
    "\n",
    "plt.tight_layout()\n",
    "plt.show()"
   ]
  },
  {
   "cell_type": "code",
   "execution_count": 23,
   "metadata": {},
   "outputs": [],
   "source": [
    "new_preprocess.to_feather(out_dir / 'preprocessed_speed_limit_classes.feather')"
   ]
  }
 ],
 "metadata": {
  "kernelspec": {
   "display_name": "lulc-ma",
   "language": "python",
   "name": "python3"
  },
  "language_info": {
   "codemirror_mode": {
    "name": "ipython",
    "version": 3
   },
   "file_extension": ".py",
   "mimetype": "text/x-python",
   "name": "python",
   "nbconvert_exporter": "python",
   "pygments_lexer": "ipython3",
   "version": "3.11.4"
  }
 },
 "nbformat": 4,
 "nbformat_minor": 2
}
