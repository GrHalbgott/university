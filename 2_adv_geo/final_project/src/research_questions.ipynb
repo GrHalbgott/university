{
 "cells": [
  {
   "cell_type": "markdown",
   "metadata": {},
   "source": [
    "# Advanced Geoscripting - Network Analysis\n",
    "\n",
    "This notebook answers the research questions regarding the network analysis project, including the betweenness centrality calculation using different methods.\n",
    "\n",
    "The concept of centrality aims at analyzing networks and finding the most important nodes in them. These can be individuals in social networks, super-spreaders of diseases or key infrastructure nodes in urban networks [1]. In road networks, not only nodes are of importance, but the edges also. \"Betweenness centrality is a key metric for assessing node and edge importance in networks. It is based on computing the share of shortest paths that pass each edge or node in relation to the total number of paths in a network. Thereby it reveals the relative importance of edges or nodes for enabling interaction within the network\" [2]. \n",
    "\n",
    "This project implements multiple calculation methods for betweenness centrality, namely using the networkx package with either a shortest or fastest route type method and the geographically informed betweenness centrality (GIBC) with different routes sample sizes and either using random routes or using a population distribution based random route generation (PDBRRG). As an area of interest, Karlsruhe is chosen because of its characteristic city structure and therefore road network as well as for its size of around 300.000 inhabitants (2022), enabling larger network analyses without taking too much calculation time. "
   ]
  },
  {
   "cell_type": "markdown",
   "metadata": {},
   "source": [
    "## Research question 1 - Calculate the betweenness centrality based on the shortest route and the one based on fastest route using the networkx package. Where are the biggest differences between them? Which one do you think is more realistic? Create figures to show your findings.\n",
    "\n"
   ]
  },
  {
   "cell_type": "markdown",
   "metadata": {},
   "source": [
    "![](../img/results/fastest%20vs.%20shortest%20network.png)\n",
    "\n",
    "Calculating the betweenness centrality using either shortest or fastest routes yields a similar result, although some differences are recognizable.\n",
    "The biggest differences are in the distribution of \"central\" routes. While the calculation with the shortest routes shows a higher centrality in the eastern part of the center, the results with the fastest routes show that the outer ring around the center city is more central. This is probably due to the estimated travel times and higher speed limits, therefore faster arrivals and higher probability of using this route. Another difference is the distribution of the centrality values in general. Using the shortest route type method, central routes are more distributed than using the fastest route type method, which shows focused centrality values on seemingly important routes through the city.\n",
    "\n",
    "![](../img/results/fastest%20vs.%20shortest%20statistics.png)\n",
    "\n",
    "Looking more into detail, the histograms clipped to two interesting areas in the lowest and highest centrality values show additional information. In the lowest centrality value area from 0.00 to 0.01 (left) the differences are minor, there only are some more routes with low centrality values in the fastest route type method. This could hint towards the claim that the centrality values are more focused to seemingly important routes through the city. In the highest centrality value area from 0.05 to 0.12 (right) the difference between the two methods are of minor importance, but still can support aforementioned claim because of higher max values and an overall higher route count above centrality values of 0.09. \n",
    "\n",
    "Regarding the realism of the calculated centrality, it is quite difficult to choose either one as more realistic. Using the fastest route type method introduces an additional dimension derived from reality, travel speed limits. Even though these limits are not always met by driving cars, they often give an estimation on the importance of these routes in a city boundary and therefore their centrality. However, when not focusing only on the whole city, more distributed \"less\" high-centralilty routes make more sense due to the large volume of traffic and routes not always covering the whole city. Therefore, both calculations could be used for different statements, but would need to be put into context to better reflect their capabilities."
   ]
  },
  {
   "cell_type": "markdown",
   "metadata": {},
   "source": [
    "## Research question 2 - Calculate the geographically adapted betweenness centrality using your own implementation from the notebook several times with increasing number of routes. Compare the centrality index to the one calculated using the ox.edge_betweenness_centrality function from the networkx package. How does the difference between the two change with increasing number of routes? Create a figure to show this."
   ]
  },
  {
   "cell_type": "markdown",
   "metadata": {},
   "source": [
    "![](../img/results/gibc%20route%20count%20comparison.png)\n",
    "\n",
    "The figure above shows the calculation of the GIBC for different route counts, ranging from 10 to 10.000. Comparing the GIBC and the betweenness centrality using the networkx package either with shortest or fastest route type method, the largest difference is obviously the density of the street network and therefore distribution of central routes. However, it is interesting that the routes with highest centrality values are already shown in the GIBC with a route number as low as 100. These routes are shown early on and stay in the high centrality value area even when increasing the number of routes, probably due to their actual high centrality. \n",
    "\n",
    "Another difference is the distribution of the centrality values over the city boundary. Because of the calculation for the whole city, the routes with highest centrality values calculated using the networkx package are concentrated in the center of the city. In GIBC, the routes are calculated randomly and therefore are much more distributed all over the city. This implies that with an increasing number of routes, the estimation of centrality using the GIBC gets more realistic, although the general tendency is shown even with a low number of routes."
   ]
  },
  {
   "cell_type": "markdown",
   "metadata": {},
   "source": [
    "## Bonus - Implement a function to choose the start and end nodes for the routes using the population data. Calculate the betweenness centrality based on this implementation and compare it with the betweenness centrality based on random start and endpoints. How do the resulting betweenness centrality indices differ?"
   ]
  },
  {
   "cell_type": "markdown",
   "metadata": {},
   "source": [
    "![](../img/results/gibc%20pop%20comparison%20network.png)\n",
    "\n",
    "Left side: GIBC without PDBRRG, right side: GIBC with PDBRRG\n",
    "\n",
    "![](../img/results/gibc%20pop%20comparison%20statistics.png)\n",
    "\n",
    "Using PDBRRG seems to distribute the centrality values more over the city. Going more into detail, the histograms show that there are more roads with very low centrality values and less roads with high centrality values, which is recognizable in the graph plot themselves. The plot with PDBRRG has a more dense network of streets which explains the higher number of streets with low centrality values.\n",
    "\n",
    "![](../img/results/gibc%20pop%20comparison.png)\n",
    "\n",
    "Comparing the graph plots with the actual population distribution which concentrates mainly in the center of the city, the network with PDBRRG seems more realistic, because the roads with relatively high centrality values also are more concentrated in the center of the city. Due to the denser network, however, the centrality values are more distributed, which explains the look of the graph plot with PDBRRG."
   ]
  },
  {
   "cell_type": "markdown",
   "metadata": {},
   "source": [
    " ## Footnotes/Literature\n",
    " "
   ]
  },
  {
   "cell_type": "markdown",
   "metadata": {},
   "source": [
    "**Notice**\n",
    "\n",
    "The code used for the figures can be found [here](./research_questions_code.ipynb)\n",
    "\n",
    "**Literature**\n",
    "\n",
    "[1] Heuvel, M.P. van den and Sporns, O. (2013) ‘Network hubs in the human brain’, Trends in Cognitive Sciences, 17(12), pp. 683–696. Available at: https://doi.org/10.1016/j.tics.2013.09.012.\n",
    "\n",
    "[2] Werner, C. and Loidl, M. (2023) ‘Supplementary materials to: Betweenness Centrality in Spatial Networks: A Spatially Normalised Approach’. Available at: https://doi.org/10.5281/ZENODO.8125632."
   ]
  }
 ],
 "metadata": {
  "kernelspec": {
   "display_name": "advgeo",
   "language": "python",
   "name": "python3"
  },
  "language_info": {
   "codemirror_mode": {
    "name": "ipython",
    "version": 3
   },
   "file_extension": ".py",
   "mimetype": "text/x-python",
   "name": "python",
   "nbconvert_exporter": "python",
   "pygments_lexer": "ipython3",
   "version": "3.11.5"
  }
 },
 "nbformat": 4,
 "nbformat_minor": 2
}
