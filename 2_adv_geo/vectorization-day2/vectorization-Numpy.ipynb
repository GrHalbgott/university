{
 "cells": [
  {
   "cell_type": "markdown",
   "metadata": {},
   "source": [
    "# Part 1: Vectorized Computation using Numpy"
   ]
  },
  {
   "cell_type": "markdown",
   "metadata": {},
   "source": [
    "We have just learned about the logical set-up of a computer and which factors affect the performance of it. Keeping this in mind, we will learn how we can improve the performance of our code in Python."
   ]
  },
  {
   "cell_type": "markdown",
   "metadata": {},
   "source": [
    "### 0. Numpy Warm Up"
   ]
  },
  {
   "cell_type": "code",
   "execution_count": null,
   "metadata": {},
   "outputs": [],
   "source": [
    "import numpy as np"
   ]
  },
  {
   "cell_type": "markdown",
   "metadata": {},
   "source": [
    "__E 2.3:__ Create a null vector of size 10 called `zeros`."
   ]
  },
  {
   "cell_type": "code",
   "execution_count": null,
   "metadata": {},
   "outputs": [],
   "source": []
  },
  {
   "cell_type": "markdown",
   "metadata": {},
   "source": [
    "**E:** Assign the value `2` to the fifth element of the array `zeros`. "
   ]
  },
  {
   "cell_type": "code",
   "execution_count": null,
   "metadata": {},
   "outputs": [],
   "source": []
  },
  {
   "cell_type": "markdown",
   "metadata": {},
   "source": [
    "__E 2.5:__ Assign the value 1 to every second element the array `zeros`. "
   ]
  },
  {
   "cell_type": "code",
   "execution_count": null,
   "metadata": {},
   "outputs": [],
   "source": []
  },
  {
   "cell_type": "markdown",
   "metadata": {},
   "source": [
    "**FYI:** To get some more practice in using numpy, do some more exercises which suite your skill level from [Nicolas Rougier's 100 Numpy Exercises](https://github.com/rougier/numpy-100)."
   ]
  },
  {
   "cell_type": "markdown",
   "metadata": {},
   "source": [
    "## 1. For-Loop vs Vectorized Computation\n",
    "\n",
    "### The theme of the EuroSciPy Conference 2018 was: _\"Vectorized is better than an explict loop\"_ \n",
    "\n",
    "<img src=\"img/IMG_20190807_082235.jpg\" alt=\"tshirt\" width=\"600\"/>"
   ]
  },
  {
   "cell_type": "markdown",
   "metadata": {},
   "source": [
    "### Example: Calculate the sum of two list / arrays"
   ]
  },
  {
   "cell_type": "markdown",
   "metadata": {},
   "source": [
    "**E:** Create two lists which contain the numbers from 0 to 1000. "
   ]
  },
  {
   "cell_type": "code",
   "execution_count": null,
   "metadata": {},
   "outputs": [],
   "source": [
    "listx = list(range(1001))\n",
    "list1 = listx\n",
    "list2 = listx"
   ]
  },
  {
   "cell_type": "markdown",
   "metadata": {},
   "source": [
    "**E:** Caculate the sum of the two lists and measure the execution time using the magic command `%%timeit`"
   ]
  },
  {
   "cell_type": "code",
   "execution_count": null,
   "metadata": {},
   "outputs": [],
   "source": [
    "sums_list = []\n",
    "i = 0\n",
    "for i in listx:\n",
    "    sums_list.append(list1[i] + list2[i])"
   ]
  },
  {
   "cell_type": "code",
   "execution_count": null,
   "metadata": {},
   "outputs": [],
   "source": [
    "sums_list"
   ]
  },
  {
   "cell_type": "code",
   "execution_count": null,
   "metadata": {},
   "outputs": [],
   "source": [
    "%%timeit\n",
    "sums_list = []\n",
    "i = 0\n",
    "for i in listx:\n",
    "    sums_list.append(list1[i] + list2[i])\n",
    "    i += 1"
   ]
  },
  {
   "cell_type": "markdown",
   "metadata": {},
   "source": [
    "**E:** Convert the lists to numpy arrays and perform the calculation again using the same method as above. Measure the execution time."
   ]
  },
  {
   "cell_type": "code",
   "execution_count": null,
   "metadata": {},
   "outputs": [],
   "source": [
    "import numpy as np\n",
    "\n",
    "arr1 = np.array(list1)\n",
    "arr2 = np.array(list2)"
   ]
  },
  {
   "cell_type": "code",
   "execution_count": null,
   "metadata": {},
   "outputs": [],
   "source": [
    "# sums_arr = []\n",
    "# i = 0\n",
    "# for i in list:\n",
    "#     sums_arr.append(arr1[i] + arr2[i])"
   ]
  },
  {
   "cell_type": "code",
   "execution_count": null,
   "metadata": {},
   "outputs": [],
   "source": [
    "# %%timeit\n",
    "# sums_arr = []\n",
    "# i = 0\n",
    "# for i in list:\n",
    "#     sums_arr.append(arr1[i] + arr2[i])\n",
    "#     i += 1"
   ]
  },
  {
   "cell_type": "markdown",
   "metadata": {},
   "source": [
    "**E:** Perform the calculation using a numpy ufunc and measure the execution time. Compare the exectuion times of all methods."
   ]
  },
  {
   "cell_type": "code",
   "execution_count": null,
   "metadata": {},
   "outputs": [],
   "source": [
    "%%timeit\n",
    "np.add(arr1, arr2)"
   ]
  },
  {
   "cell_type": "markdown",
   "metadata": {},
   "source": [
    "### Can the logical setup of a computer explain the differences?\n",
    "\n",
    "<img src=\"./img/vectorization.png\" alt=\"setup\" width=\"600\"/>"
   ]
  },
  {
   "cell_type": "markdown",
   "metadata": {},
   "source": [
    "### Lists vs Numpy Arrays"
   ]
  },
  {
   "cell_type": "markdown",
   "metadata": {},
   "source": [
    "Arrays are better than lists for continous reading of data, because lists usually only store pointers to variables stored in memory, not the variable values themselves. This can lead to bad spatial locality when reading the data, because the data might be spread all over the memory.\n",
    "\n",
    "<img src=\"https://i.stack.imgur.com/K26b0.png\" alt=\"drawing\" width=\"600\"/>\n"
   ]
  },
  {
   "cell_type": "markdown",
   "metadata": {},
   "source": [
    "#### What about `np.vectorize`?\n",
    "\n",
    "There is a `numpy.vectorize()` functions which seems like it vectorizes your Python code. Execute the code below and compare the results to the previous ones."
   ]
  },
  {
   "cell_type": "code",
   "execution_count": null,
   "metadata": {},
   "outputs": [],
   "source": [
    "def add_values(a, b):\n",
    "    \"Adds a and b\"\n",
    "    return a + b"
   ]
  },
  {
   "cell_type": "code",
   "execution_count": null,
   "metadata": {},
   "outputs": [],
   "source": [
    "add_values_vect = np.vectorize(add_values)"
   ]
  },
  {
   "cell_type": "code",
   "execution_count": null,
   "metadata": {},
   "outputs": [],
   "source": [
    "%%timeit\n",
    "add_values_vect(values1, values2)"
   ]
  },
  {
   "cell_type": "markdown",
   "metadata": {},
   "source": [
    "**E:** Take a look at [documentation of the numpy.vectorize() fucntion](https://numpy.org/doc/stable/reference/generated/numpy.vectorize.html). How does `numpy.vectorize()` perform the calculation?"
   ]
  },
  {
   "cell_type": "code",
   "execution_count": null,
   "metadata": {},
   "outputs": [],
   "source": []
  },
  {
   "cell_type": "markdown",
   "metadata": {},
   "source": [
    "__Bonus:__ Write the function above as a lambda function. "
   ]
  },
  {
   "cell_type": "code",
   "execution_count": null,
   "metadata": {},
   "outputs": [],
   "source": []
  },
  {
   "cell_type": "markdown",
   "metadata": {},
   "source": [
    "### Vectorizing your script using Numpy \n",
    "\n",
    "* Avoid for loops (or even nested for loops) when possible. \n",
    "* Perform __calculations on arrays__ instead of scalars\n",
    "* Use Numpy's built-in universal functions whenever possible to enable vectorized computation. "
   ]
  },
  {
   "cell_type": "markdown",
   "metadata": {},
   "source": [
    "**Conclusion:** Use lists if the elements are of different data type or you do not need to perform any calculations. Otherwise use numpy arrays."
   ]
  },
  {
   "cell_type": "markdown",
   "metadata": {},
   "source": [
    "## 2. Spatial Locality"
   ]
  },
  {
   "cell_type": "markdown",
   "metadata": {},
   "source": [
    "**Exercise** Create a 2-dimensional array with random numbers with 10000 rows and 10000 columns. "
   ]
  },
  {
   "cell_type": "code",
   "execution_count": null,
   "metadata": {},
   "outputs": [],
   "source": [
    "import numpy as np\n",
    "\n",
    "rand_arr = np.random.randint(100, size=(5000, 10000))"
   ]
  },
  {
   "cell_type": "markdown",
   "metadata": {},
   "source": [
    "**By the way:** How can you make the function always yields the same random numbers for better reproducibility?"
   ]
  },
  {
   "cell_type": "code",
   "execution_count": null,
   "metadata": {},
   "outputs": [],
   "source": [
    "np.random.seed(42)\n",
    "rand_arr = np.random.randint(100, size=(5000, 10000))\n",
    "rand_arr"
   ]
  },
  {
   "cell_type": "markdown",
   "metadata": {},
   "source": [
    "**Exercise:** Calculate the mean of each row and the mean of each column. Measure how long each of these operations takes. What do you observe?"
   ]
  },
  {
   "cell_type": "code",
   "execution_count": null,
   "metadata": {},
   "outputs": [],
   "source": [
    "np.mean(rand_arr[1])"
   ]
  },
  {
   "cell_type": "code",
   "execution_count": null,
   "metadata": {},
   "outputs": [],
   "source": [
    "np.mean(rand_arr[0])"
   ]
  },
  {
   "cell_type": "markdown",
   "metadata": {},
   "source": [
    "### Looking at the way arrays are stored in pyhsical memory might help us explain this phenomenon. \n",
    "\n",
    "![spatial_locality_example1](img/spatial_locality_example.png)\n",
    "![spatial_locality_example2](img/spatial_locality_example2.png)\n",
    "![spatial_locality_example3](img/spatial_locality_example3.png)\n",
    "\n",
    "Source: [Spatial locality explained](http://www.tophatstuff.co.uk/index.html@p=119.html)\n"
   ]
  },
  {
   "cell_type": "markdown",
   "metadata": {},
   "source": [
    "### Row and Column Major Order"
   ]
  },
  {
   "cell_type": "markdown",
   "metadata": {},
   "source": [
    "By default numpy arrays are stored in C order (row-major), not in F order (column-major). Therefore, calculations along the rows (axis=1) are faster than along the columns (axis=0) for a 2D array. So calculating the mean of each row is faster than the mean of each column if the numpy array is stored as default in C order.\n",
    "\n",
    "&rarr; [SciPy Lectures: C/F order](https://scipy-lectures.org/advanced/advanced_numpy/index.html#c-and-fortran-order)\n",
    "\n",
    "<img src=\"img/row-major-order.png\" alt=\"row-major\" width=\"500\"/>\n"
   ]
  },
  {
   "cell_type": "code",
   "execution_count": null,
   "metadata": {},
   "outputs": [],
   "source": [
    "arr2D = np.arange(0, 50).reshape(10, 5)"
   ]
  },
  {
   "cell_type": "code",
   "execution_count": null,
   "metadata": {},
   "outputs": [],
   "source": [
    "arr2D.strides\n",
    "# Angaben in Byte"
   ]
  },
  {
   "cell_type": "markdown",
   "metadata": {},
   "source": [
    "**E:** Convert the 2d array into a 1D array using F order."
   ]
  },
  {
   "cell_type": "code",
   "execution_count": null,
   "metadata": {
    "scrolled": false
   },
   "outputs": [],
   "source": [
    "arr2D.ravel(order=\"F\")"
   ]
  },
  {
   "cell_type": "code",
   "execution_count": null,
   "metadata": {
    "scrolled": true
   },
   "outputs": [],
   "source": [
    "arr2D.ravel(order=\"C\")"
   ]
  },
  {
   "cell_type": "markdown",
   "metadata": {},
   "source": [
    "## 4. Numpy Strides\n",
    "\"Strides are the number of bytes to jump-over in the memory in order to get from one item to the next item along each direction/dimension of the array. In other words, it's the byte-separation between consecutive items for each dimension.\" [Stack Overflow](https://stackoverflow.com/questions/53097952/how-to-understand-numpy-strides-for-layman)\n",
    "\n",
    "--> [SciPy Lectures: Strides](https://scipy-lectures.org/advanced/advanced_numpy/index.html#indexing-scheme-strides)"
   ]
  },
  {
   "cell_type": "markdown",
   "metadata": {},
   "source": [
    "__E 2.1:__ Create an array `arr` with values ranging from 10 to 49 of data type \"int8\" (8-bit integer)."
   ]
  },
  {
   "cell_type": "code",
   "execution_count": null,
   "metadata": {},
   "outputs": [],
   "source": []
  },
  {
   "cell_type": "markdown",
   "metadata": {},
   "source": [
    "**E:** Print the strides of `arr`."
   ]
  },
  {
   "cell_type": "code",
   "execution_count": null,
   "metadata": {},
   "outputs": [],
   "source": [
    "arr.strides"
   ]
  },
  {
   "cell_type": "markdown",
   "metadata": {},
   "source": [
    "**E:** change the data type of `arr` to 16-bit integer and print the strides again. Why do they change? "
   ]
  },
  {
   "cell_type": "code",
   "execution_count": null,
   "metadata": {},
   "outputs": [],
   "source": []
  },
  {
   "cell_type": "markdown",
   "metadata": {},
   "source": [
    "**E:** Reshape the array so that it has 4 rows and 10 columns and print the strides again."
   ]
  },
  {
   "cell_type": "code",
   "execution_count": null,
   "metadata": {},
   "outputs": [],
   "source": []
  },
  {
   "cell_type": "markdown",
   "metadata": {},
   "source": [
    "**Explanation:** To get to the next row you need to jump 10 * 2 bytes (16 bit integer = 2 byte). To get to the next column you need to jump 1 * 2 bytes."
   ]
  },
  {
   "cell_type": "markdown",
   "metadata": {},
   "source": [
    "__E:__ What happens to the data in memory when you transpose the array `arr3`? "
   ]
  },
  {
   "cell_type": "code",
   "execution_count": null,
   "metadata": {},
   "outputs": [],
   "source": [
    " arr3.transpose().strides"
   ]
  },
  {
   "cell_type": "markdown",
   "metadata": {},
   "source": [
    "### Bonus exercise:\n",
    "Create an F ordered array with 15 columns and 10 rows with data type 32bit float. Calculate the strides by yourself. Check your result by executing the `strides`. "
   ]
  },
  {
   "cell_type": "code",
   "execution_count": null,
   "metadata": {},
   "outputs": [],
   "source": []
  },
  {
   "cell_type": "markdown",
   "metadata": {},
   "source": [
    "## Summary\n",
    "\n",
    "* You should be able now to explain the sentence \"vectorized is better than an explicit loop\".\n",
    "* When performing calculations it is good to keep in mind how arrays are stored in memory, since it can influence your processing time. \n",
    "* Most of the time however, NumPy or Python take care of it."
   ]
  },
  {
   "cell_type": "markdown",
   "metadata": {},
   "source": [
    "### Resources:\n",
    "\n",
    "__Micha Gorelick, Ian Ozsvald. High Performance Python. O'Reilly, 2014. (Safari Books)__ (very good)\n",
    "\n",
    "Schmidt, B., Gonzalez-Dominguez, J., Hundt, C., & Schlarb, M. (2017). Parallel programming: concepts and practice. Morgan Kaufmann. [Google Books](https://books.google.de/books?hl=en&lr=&id=-y9HDgAAQBAJ&oi=fnd&pg=PP1&dq=Parallel+Programming:+Concepts+and+Practice&ots=vPL3kPvTkJ&sig=gN5EA0okkbtUHufPvTB37MAGFis)\n",
    "\n",
    "[Spatial locality explained](http://www.tophatstuff.co.uk/index.html@p=119.html)\n",
    "\n",
    "[SciPy Lecture Notes: Advanced Numpy](https://scipy-lectures.org/advanced/advanced_numpy/index.html)\n",
    " \n",
    "[Real Python: Numpy array programming](https://realpython.com/numpy-array-programming/)\n",
    "\n",
    "[NumPy Tutorial]( https://github.com/mingrammer/cs231n-numpy-tutorial/blob/master/numpy_tutorial.ipynb\n",
    ")\n",
    "\n",
    "[Memory Bound Problems](https://github.com/ASPP/MemoryBoundComputations)"
   ]
  },
  {
   "cell_type": "code",
   "execution_count": null,
   "metadata": {},
   "outputs": [],
   "source": []
  }
 ],
 "metadata": {
  "kernelspec": {
   "display_name": "Python 3.9.12 ('advgeoscripting')",
   "language": "python",
   "name": "python3"
  },
  "language_info": {
   "codemirror_mode": {
    "name": "ipython",
    "version": 3
   },
   "file_extension": ".py",
   "mimetype": "text/x-python",
   "name": "python",
   "nbconvert_exporter": "python",
   "pygments_lexer": "ipython3",
   "version": "3.9.12"
  },
  "vscode": {
   "interpreter": {
    "hash": "cde496d91621406f13345fe08c7f95ecb20a2f1a2eeb1bf616cb65c2ffed2999"
   }
  }
 },
 "nbformat": 4,
 "nbformat_minor": 2
}
