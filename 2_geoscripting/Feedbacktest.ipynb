{
 "cells": [
  {
   "cell_type": "markdown",
   "id": "alleged-alloy",
   "metadata": {},
   "source": [
    "<img src=\"https://www.geog.uni-heidelberg.de/md/chemgeo/geog/3dgeo/3dgeo_logo.jpg\" width=150 height=100 /><img src=\"https://www.python.org/static/img/python-logo.png\" width=250 height=100 />\n",
    "## Geoscripting\n",
    "Bernhard Höfle, Lukas Winiwarter, Katharina Anders: Institute of Geography, Heidelberg University"
   ]
  },
  {
   "cell_type": "markdown",
   "id": "daily-arrival",
   "metadata": {},
   "source": [
    "# Assignment 1"
   ]
  },
  {
   "cell_type": "markdown",
   "id": "changing-duncan",
   "metadata": {},
   "source": [
    "## General"
   ]
  },
  {
   "cell_type": "markdown",
   "id": "peaceful-people",
   "metadata": {},
   "source": [
    "<b style=color:red>Deadline</b>: **30.05.2022, 22:00 h**\\\n",
    "Upload your notebook in **one ZIP archieve** (e.g. test1_anders.zip) to moodle."
   ]
  },
  {
   "cell_type": "markdown",
   "id": "oriental-intent",
   "metadata": {},
   "source": [
    "**Deliverables:**\\\n",
    "Provide your **source code of your scripts with every step commented** in the code! Your scripts should be **executable on other machines** (e.g., avoid \"hardcoding\" file names and paths) in order to be tested if they work.\\\n",
    "While the assignment will not be graded, it is necessary to **practice coding** througout the semester. You will be given **feedback** on your code to help you for the next assignments and the final test.\\\n",
    "**# Comment each step** in the source code so that a third person can easily follow what is going on in the code.\\\\\n",
    "**How to proceed:**\n",
    "1. How does the algorithm work? Think of the solution (e.g. equation). What is the \"recipe\" of making the Sacher cake? What are the ingredients, cooking steps and sequence of steps?\n",
    "2. Note all necessary steps that have to be done to solve the problem (algorithm/workflow): <b>Split the (large) problem into smaller, easy-to-solve problems</b> (e.g. open file, read lines, ...)!\n",
    "3. Write it down in Python source code. Step-by-step!\\\n",
    "**Start with parts you are familiar with** and add others later (e.g. downloading from an URL)."
   ]
  },
  {
   "cell_type": "markdown",
   "id": "forward-burner",
   "metadata": {},
   "source": [
    "# 1) Harvest GPS Tracks from Web and export to KML"
   ]
  },
  {
   "cell_type": "markdown",
   "id": "political-recall",
   "metadata": {},
   "source": [
    "Write a script that **opens** a comma separated value (csv) ASCII file of a GPS track from a Web URL given by the user as **input**, reformats the input file and **writes a KML ASCII file**, which can be displayed in Google Earth or GIS software. In general, such tracks could be trajectories from geomorphological field campaigns or also GNSS reference data (e.g. of river courses). Thus, a quick view of the results after field campaigns can be made with this new script.\\\n",
    "-> From where to where is the GPS track going?\\\n",
    "Your script will answer it by watching the result in Google Earth or QGIS/ArcGIS.\\\n",
    "**The script will work like this:**\n",
    "- The input URL and output KML file name should be <b>asked from the user</b>.\n",
    "- Get GPS data in your script for testing from here: [https://heibox.uni-heidelberg.de/f/824751be6df74441860f/?dl=1](https://heibox.uni-heidelberg.de/f/824751be6df74441860f/?dl=1).\n",
    "- The script will <b>take only every 5th coordinate pair</b> of the input file\n",
    "- The script will be able to <b>catch an error (try/except)</b> of reading the data from the Web and inform the user about the error for stopping <b>exit()</b> the script.\n",
    "- <b>Reformat the input ASCII file</b> lines and add the KML header and footer tor the output file. Lines have to be skipped in the input and other lines have to be added.\n",
    "- Furthermore, <b>latitude and longitude have to be switched (!):</b> KML needs: long,lat,elevation.\n",
    "- A simple KML file (with header and footer) looks like this. Note that there are <b>no spaces between coordinates</b>:\n",
    "\n",
    "```html\n",
    "<?xml version=\"1.0\" encoding=\"UTF-8\"?>\n",
    "<kml xmlns=\"http://www.opengis.net/kml/2.2\">\n",
    "<Placemark>\n",
    "<name>GPS track</name>\n",
    "<MultiGeometry>\n",
    "<LineString>\n",
    "<coordinates>\n",
    "8.683964290,49.40520080,116.00000\n",
    "8.683169590,49.40450620,118.00000\n",
    "…\n",
    "</coordinates>\n",
    "</LineString>\n",
    "</MultiGeometry>\n",
    "</Placemark>\n",
    "</kml>\n",
    "```\n",
    "\n",
    "**Hint:** Variables with text of multiple lines can be defined as:\n",
    "```python\n",
    "footer=\"\"\"\n",
    "</coordinates>\n",
    "</LineString>\n",
    "</MultiGeometry>\n",
    "</Placemark>\n",
    "</kml>\n",
    "```\n"
   ]
  },
  {
   "cell_type": "markdown",
   "id": "abandoned-jacob",
   "metadata": {},
   "source": [
    "**Import modules:** This code block should be extended while writing your code so all modules needed will be imported here at the end"
   ]
  },
  {
   "cell_type": "code",
   "execution_count": 1,
   "id": "a35be2f5",
   "metadata": {},
   "outputs": [],
   "source": [
    "# Importing modules that are required for the script\n",
    "import os\n",
    "import urllib.request\n",
    "import sys"
   ]
  },
  {
   "cell_type": "markdown",
   "id": "gorgeous-terminology",
   "metadata": {},
   "source": [
    "Get the **required arguments (filenames)**, if they are not in the same directory as the notebook the directory should be changed:"
   ]
  },
  {
   "cell_type": "code",
   "execution_count": 2,
   "id": "451ceb39",
   "metadata": {},
   "outputs": [
    {
     "name": "stdout",
     "output_type": "stream",
     "text": [
      "C:\\Users\\GrHalbgott\\Downloads\\geoscripting\\Feedback1\n",
      "C:\\Users\\GrHalbgott\\Downloads\\geoscripting\\Feedback1\n"
     ]
    }
   ],
   "source": [
    "# Print the current working directory (cwd)\n",
    "print(os.getcwd())\n",
    "\n",
    "# Change the cwd to the location of the script (this file)\n",
    "os.chdir(\".\\\\\")"
   ]
  },
  {
   "cell_type": "markdown",
   "id": "passing-presence",
   "metadata": {},
   "source": [
    "**Read** the data from the **URL**:"
   ]
  },
  {
   "cell_type": "code",
   "execution_count": 3,
   "id": "814853d9",
   "metadata": {},
   "outputs": [
    {
     "name": "stdout",
     "output_type": "stream",
     "text": [
      "Enter the data source (URL):https://heibox.uni-heidelberg.de/f/824751be6df74441860f/?dl=1\n",
      "Latitude,Longitude,Elevation\n",
      "48.18284160,16.37945650,200.0\n",
      "48.18284000,16.37945000,200.0\n",
      "48.18235000,16.37928000,203.0\n",
      "48.18225000,16.37916000,204.0\n",
      "48.18193000,16.37856000,209.0\n",
      "48.18193000,16.37855000,209.0\n",
      "48.18189000,16.37850000,209.0\n",
      "\n",
      "Latitude,Longitude,Elevation\n",
      "48.18284160,16.37945650,200.0\n",
      "48.18284000,16.37945000,200.0\n",
      "48.18235000,16.37928000,203.0\n",
      "48.18225000,16.37916000,204.0\n",
      "48.18193000,16.37856000,209.0\n",
      "48.18193000,16.37855000,209.0\n",
      "48.18189000,16.37850000,209.0\n",
      "\n"
     ]
    }
   ],
   "source": [
    "# Ignore (or use as test data source): https://heibox.uni-heidelberg.de/f/824751be6df74441860f/?dl=1\n",
    "\n",
    "# Create a variable with the URL specified by the user\n",
    "webURL = input(\"Enter the data source (URL):\")\n",
    "\n",
    "# Use this to open the URL and get the contents\n",
    "webpage = urllib.request.urlopen(webURL)\n",
    "\n",
    "# Read the contents of the URL and decode them as UTF-8, store this data in a variable\n",
    "encode = 'UTF-8'\n",
    "webtext = webpage.read().decode(encoding=encode)\n",
    "\n",
    "# Print the first 247 characters of the data to check if the request worked (the lines are recognised because there are \\n terms)\n",
    "print(webtext[0:247])"
   ]
  },
  {
   "cell_type": "markdown",
   "id": "patient-nurse",
   "metadata": {},
   "source": [
    "**Reformat** the input data that looks like this right now:\n",
    "\n",
    "Latitude,Longitude,Elevation\\\n",
    "48.18284160,16.37945650,200.0\\\n",
    "48.18284000,16.37945000,200.0\\\n",
    "48.18235000,16.37928000,203.0\\\n",
    "48.18225000,16.37916000,204.0\\\n",
    "48.18193000,16.37856000,209.0\\\n",
    "...\n",
    "\n",
    "First, add a counter for the line numbers and an empty string where the text for the output file should be written to:"
   ]
  },
  {
   "cell_type": "code",
   "execution_count": null,
   "id": "f74a7904",
   "metadata": {},
   "outputs": [],
   "source": [
    "# Create variable for a line counter\n",
    "line_num = 0\n",
    "\n",
    "# Ask for a name for the output file\n",
    "kml_name = input(\"Enter a name for the output file (KML):\")\n",
    "\n",
    "# Variable with empty String is skipped, writing procedure is integrated in the following code"
   ]
  },
  {
   "cell_type": "markdown",
   "id": "hollywood-ancient",
   "metadata": {},
   "source": [
    "In the next step a loop should iterate over each line and \n",
    "1. decode the line as urllib puts out a byte stream\n",
    "2. increment the counter for the current line while reading the input file\n",
    "3. skip the header\n",
    "4. select coordinates (every 5th pair!)\n",
    "5. read the single columns separated by commas \",\" and remove new lines with `strip()` before\n",
    "6. change the order of latitude and longitude to fit KML and add the line to the output text variable which stores the entire content"
   ]
  },
  {
   "cell_type": "code",
   "execution_count": null,
   "id": "2e2ecd25",
   "metadata": {},
   "outputs": [],
   "source": [
    "# Test if a new file with the name from above is writable and write into it when no error occurs\n",
    "try:\n",
    "    # Open new file with name from above\n",
    "    outfile = open(\".\\\\outfile.txt\", \"w\") \n",
    "    # Iterate through the data and seperate the continuous data into columns and lines\n",
    "    # Skip the first line\n",
    "    for line in webtext.splitlines()[1:]: \n",
    "        # Increase the line counter by 1\n",
    "        line_num += 1 \n",
    "        # Check whether the line_number is not dividable by 5, only continue if true\n",
    "        if line_num % 5 != 0: \n",
    "            continue\n",
    "        # Split the data into columns at \",\" and clean up the data (no spaces, no empty lines)\n",
    "        linevals = line.strip().split(\",\") \n",
    "        # Change the order of the list elements from 1 2 (3) to 2 1 (3)\n",
    "        linevals[0], linevals[1] = linevals[1], linevals[0] \n",
    "        # Write the line values to the output file specified before\n",
    "        outfile.write(str(linevals) + \"\\n\") #\n",
    "    # At the end, close the output file\n",
    "    outfile.close() \n",
    "    print(\"File successfully written.\")\n",
    "# Do a sys.exit when an error occurs when writing into the file\n",
    "except Exception as err:\n",
    "    print(\"Could not write to file: \", err)\n",
    "    sys.exit()"
   ]
  },
  {
   "cell_type": "markdown",
   "id": "proof-cartridge",
   "metadata": {},
   "source": [
    "**Write** the output text to the **output file** and catch possibly occuring errors:"
   ]
  },
  {
   "cell_type": "code",
   "execution_count": null,
   "id": "71fd3776",
   "metadata": {},
   "outputs": [],
   "source": [
    "# integrated in the code above"
   ]
  },
  {
   "cell_type": "markdown",
   "id": "amino-alcohol",
   "metadata": {},
   "source": [
    "**Define** Header and Footer for the KML file"
   ]
  },
  {
   "cell_type": "code",
   "execution_count": null,
   "id": "faee5a8e",
   "metadata": {},
   "outputs": [],
   "source": [
    "# Hardcode the XML/KML header and footer with two variables \n",
    "header = \"\"\"<?xml version=\"1.0\" encoding=\"\"\" + encode + \"\"\"?>\n",
    "<kml xmlns=\"http://www.opengis.net/kml/2.2\">\n",
    "    <Placemark>\n",
    "        <name>\"\"\"+ kml_name +\"\"\"</name>\n",
    "        <MultiGeometry>\n",
    "            <LineString>\n",
    "                <coordinates>\n",
    "\"\"\"\n",
    "footer = \"\"\"                </coordinates>\n",
    "            </LineString>\n",
    "        </MultiGeometry>\n",
    "    </Placemark>\n",
    "</kml>\"\"\""
   ]
  },
  {
   "cell_type": "markdown",
   "id": "organizational-palestine",
   "metadata": {},
   "source": [
    "Combine the **variables** to **write the output KML file**, be aware of the order in which the variables should be written to the file and do not forget to close the file:"
   ]
  },
  {
   "cell_type": "code",
   "execution_count": null,
   "id": "642e443c",
   "metadata": {},
   "outputs": [],
   "source": [
    "# Create a new KML-file and open it in appending mode \n",
    "kml_outfile = open(\".\\\\\" + kml_name + \".kml\", \"a\")\n",
    "#Open the previous result file in reading mode\n",
    "outfile = open(\".\\\\outfile.txt\", \"r\")\n",
    "# Append the header to the KML-file\n",
    "kml_outfile.write(header)\n",
    "# Append the contents of the outfile into the KML-file\n",
    "for line in outfile:\n",
    "    kml_outfile.write(line)\n",
    "# Append the footer to the KML-file\n",
    "kml_outfile.write(footer)\n",
    "# Close both files\n",
    "outfile.close()\n",
    "kml_outfile.close()\n",
    "\n",
    "# Delete the outfile so there only is one result file\n",
    "os.remove(\".\\\\outfile.txt\")"
   ]
  },
  {
   "cell_type": "markdown",
   "id": "voluntary-vintage",
   "metadata": {},
   "source": [
    "In the final step, the user should get **information** about the successful process:"
   ]
  },
  {
   "cell_type": "code",
   "execution_count": null,
   "id": "ad897901",
   "metadata": {},
   "outputs": [],
   "source": [
    "# Show that the process has finished and give further info\n",
    "print(\"Your KML-file '\" + kml_name + \".kml\" + \"' is now ready.\")\n",
    "print(\"There were \" + str(line_num) + \" lines in total.\")"
   ]
  },
  {
   "cell_type": "markdown",
   "id": "otherwise-telling",
   "metadata": {},
   "source": [
    "# 2) Automatic ASCII File Merging - Laser Scanning Point Clouds"
   ]
  },
  {
   "cell_type": "markdown",
   "id": "assured-vienna",
   "metadata": {},
   "source": [
    "In practice you often get multiple ASCII files (e.g. tiles), which should be merged into one file. Having one file \n",
    "is much  easier to work with, e.g. in GIS programs or for visualization.  Given are multiple files representing \n",
    "different  objects  (e.g.  ground  surface,  tree)  as  **X Y Z R G B**  laser  points  (RGB  =  red  green  blue).  You  can \n",
    "visualize them and the final merged result using the open source software CloudCompare (installed in the PC \n",
    "lab or download [here](www.cloudcompare.org)).\\\n",
    "**Test data can be found in Moodle for manual download.**\\\n",
    "**The script will:**\n",
    "- <b>Automatically</b> read all files with extension \".asc\" in the user-given directory on your local computer and merge the files into one output file with file extension \".asc\". If there is already an output file existing in the folder, it should not be merged and just be overwritten.\n",
    "- Provide system arguments <b>(sys.argv)</b> at program call to read the (i) <b>input directory</b> and (ii) <b>output file</b> (i.e. merged ASCII file).\n",
    "- The part of determining all files with the given extension should be put into a newly defined <b>function</b> `getAllFilesByExt (directory, fileext)` returning a list with all file names.\n",
    "- Adapt you script such that the laser points of the file <b>\"BigTree.asc\"</b> representing the tree in the scene <b>are not written into the merged point cloud file</b>.\n",
    "- The script will <b>measure the time</b> the merging took and print this info together with the <b>number of written points</b> at the end of the script.\n",
    "\n",
    "**Hints:**\n",
    "- Do not forget to change into directory of the files <b>(os.chdir())</b> before listing all elements in the directory.\n",
    "- Either provide an absolute path for output file or set current working directory to path where output file should be written.\n",
    "- With `filein.read()` the whole content of an ASCII file can be read into string variable and thus also written directly to the output without iterating over each line.\n",
    "- If you want to geht the number of lines of string content, you can also look deeper into the function `splitlines()` combined with the function `len()`.\n",
    "- View the resulting merged file in CouldCompare to verify the result."
   ]
  },
  {
   "cell_type": "markdown",
   "id": "later-trunk",
   "metadata": {},
   "source": [
    "**Import** all necessary modules:"
   ]
  },
  {
   "cell_type": "code",
   "execution_count": null,
   "id": "84a5de12",
   "metadata": {},
   "outputs": [],
   "source": [
    "import os\n",
    "import sys\n",
    "import glob\n",
    "import time"
   ]
  },
  {
   "cell_type": "markdown",
   "id": "illegal-sample",
   "metadata": {},
   "source": [
    "**Module sys** is required for reading **program options and exit** in case something is wrong. **Module os** is required for **handling files and directories**. **Module time** is used for **time measurement**."
   ]
  },
  {
   "cell_type": "markdown",
   "id": "residential-welsh",
   "metadata": {},
   "source": [
    "For this exercise a **function** should be written to get all files in the input directory. As input for the function `getAllFilesByExt` the **directory** has to be given and the **file extension** has to be defined. The **directrory** should be changed to the one given to the function and the files used should be saved in a **list**. The function can **iterate** over each element in the directory and check the extension of the file: If the file has the **right extension** the file should be written to the **list**. Finally the function should **retun the list** of the selected files."
   ]
  },
  {
   "cell_type": "code",
   "execution_count": null,
   "id": "c046c9f9",
   "metadata": {},
   "outputs": [],
   "source": [
    "# Print the current working directory (cwd)\n",
    "print(os.getcwd())\n",
    "\n",
    "# Change the cwd to the location of the script (this file)\n",
    "os.chdir(\".\\\\\")\n",
    "\n",
    "# Create empty list\n",
    "allfiles = []\n",
    "\n",
    "# Define function with two variables\n",
    "def getAllFilesByExt(directory, fileext):\n",
    "    # Search in directory for files with name defined by user input later on \n",
    "    file_list = glob.glob(directory + \"*.\" + fileext)\n",
    "    for file in file_list:\n",
    "        allfiles.append(file.read())\n",
    "    return allfiles"
   ]
  },
  {
   "cell_type": "markdown",
   "id": "complete-ottawa",
   "metadata": {},
   "source": [
    "As some information from the user is needed concerning the **input directory and output file** that information should be stored, again if the file is not in the same directory as the notebook, the directory should be changed:"
   ]
  },
  {
   "cell_type": "code",
   "execution_count": null,
   "id": "f34f2844",
   "metadata": {},
   "outputs": [],
   "source": [
    "in_direc = \".\\\\\" + input(\"Enter the directory of input data: \")\n",
    "result_name = input(\"Enter the name of the output file: \")"
   ]
  },
  {
   "cell_type": "markdown",
   "id": "immediate-taylor",
   "metadata": {},
   "source": [
    "Now that all information is collected the time measurement should be started:"
   ]
  },
  {
   "cell_type": "code",
   "execution_count": null,
   "id": "22fb5f44",
   "metadata": {},
   "outputs": [],
   "source": [
    "start = time.time()\n",
    "for i in range(1,1000000):\n",
    "    pass"
   ]
  },
  {
   "cell_type": "markdown",
   "id": "impressive-veteran",
   "metadata": {},
   "source": [
    "The function is created above, but not applied yet, so it should be **applied to the input directory and the extension** should be provided:"
   ]
  },
  {
   "cell_type": "code",
   "execution_count": null,
   "id": "5d75728f",
   "metadata": {},
   "outputs": [],
   "source": [
    "print(getAllFilesByExt(in_direc, \"asc\"))"
   ]
  },
  {
   "cell_type": "markdown",
   "id": "damaged-placement",
   "metadata": {},
   "source": [
    "Results should be written to the output file, so the file should be **openend in the directory of the input files**:"
   ]
  },
  {
   "cell_type": "code",
   "execution_count": null,
   "id": "58ea34cc",
   "metadata": {},
   "outputs": [],
   "source": [
    "result = open(\".\\\\\" + result_name + \".asc\", \"w\")"
   ]
  },
  {
   "cell_type": "markdown",
   "id": "invalid-scenario",
   "metadata": {},
   "source": [
    "As information for the user should be provided a **counter for the total number of points** should be created:"
   ]
  },
  {
   "cell_type": "code",
   "execution_count": null,
   "id": "865bb1ca",
   "metadata": {},
   "outputs": [],
   "source": [
    "total_pts = 0"
   ]
  },
  {
   "cell_type": "markdown",
   "id": "precious-voice",
   "metadata": {},
   "source": [
    "A **loop over all files** will write the output immediatly to the output file. To do so the iteration must **check the filename** (\"BigTree.asc\" and the possibly already existing output file should not be used) and then **open and read the file**. The **counter** should be increased by the number of points in the file and the **content of the file should be written to the output file**. Do not forget to **close each file**:"
   ]
  },
  {
   "cell_type": "code",
   "execution_count": null,
   "id": "7ef74e48",
   "metadata": {},
   "outputs": [],
   "source": [
    "# for i in range:\n",
    "#    total_pts += len(file)\n",
    "#    open(file, \"r\")"
   ]
  },
  {
   "cell_type": "markdown",
   "id": "stone-triangle",
   "metadata": {},
   "source": [
    "The last file to **close** should be the **output file**:"
   ]
  },
  {
   "cell_type": "code",
   "execution_count": null,
   "id": "9ae07f5c",
   "metadata": {},
   "outputs": [],
   "source": [
    "result.close()"
   ]
  },
  {
   "cell_type": "markdown",
   "id": "cathedral-pepper",
   "metadata": {},
   "source": [
    "Now the **time measurement** can stop as all necessary steps are done:"
   ]
  },
  {
   "cell_type": "code",
   "execution_count": null,
   "id": "6b15733e",
   "metadata": {},
   "outputs": [],
   "source": [
    "end = time.time()"
   ]
  },
  {
   "cell_type": "markdown",
   "id": "annual-moldova",
   "metadata": {},
   "source": [
    "The user should be provided **information** about how many points were written to which file and how long it took:"
   ]
  },
  {
   "cell_type": "code",
   "execution_count": null,
   "id": "c420a1cd",
   "metadata": {},
   "outputs": [],
   "source": [
    "runtime = end - start\n",
    "\n",
    "print(\"\")\n",
    "print(\"The whole process took %.3f sec.\" % (runtime))"
   ]
  },
  {
   "cell_type": "code",
   "execution_count": null,
   "id": "240921b1",
   "metadata": {},
   "outputs": [],
   "source": []
  }
 ],
 "metadata": {
  "interpreter": {
   "hash": "d7120b8443af436304e18843d31b01551981d1a89424eef63264bf65f2117439"
  },
  "kernelspec": {
   "display_name": "Python 3 (ipykernel)",
   "language": "python",
   "name": "python3"
  },
  "language_info": {
   "codemirror_mode": {
    "name": "ipython",
    "version": 3
   },
   "file_extension": ".py",
   "mimetype": "text/x-python",
   "name": "python",
   "nbconvert_exporter": "python",
   "pygments_lexer": "ipython3",
   "version": "3.7.11"
  },
  "toc": {
   "base_numbering": 1,
   "nav_menu": {},
   "number_sections": false,
   "sideBar": true,
   "skip_h1_title": false,
   "title_cell": "Table of Contents",
   "title_sidebar": "Contents",
   "toc_cell": false,
   "toc_position": {
    "height": "calc(100% - 180px)",
    "left": "10px",
    "top": "150px",
    "width": "165px"
   },
   "toc_section_display": true,
   "toc_window_display": true
  }
 },
 "nbformat": 4,
 "nbformat_minor": 5
}
